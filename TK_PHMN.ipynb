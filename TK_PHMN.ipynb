{
  "cells": [
    {
      "cell_type": "markdown",
      "metadata": {
        "id": "DTTN-psw6pI7"
      },
      "source": [
        "## Create CONSTANTS"
      ]
    },
    {
      "cell_type": "code",
      "execution_count": 46,
      "metadata": {},
      "outputs": [],
      "source": [
        "import sys"
      ]
    },
    {
      "cell_type": "code",
      "execution_count": 47,
      "metadata": {
        "id": "TWspgDdB6pI8"
      },
      "outputs": [],
      "source": [
        "EPM = {\n",
        "    'min_util': -sys.float_info.max,\n",
        "    'min_per': 1,\n",
        "    'max_per': 6,\n",
        "    'min_avg': 1,\n",
        "    'max_avg': 5,\n",
        "    'top_k' : 10\n",
        "}"
      ]
    },
    {
      "cell_type": "markdown",
      "metadata": {
        "id": "KNm3EBQj6pI9"
      },
      "source": [
        "### Show global variable"
      ]
    },
    {
      "cell_type": "code",
      "execution_count": 48,
      "metadata": {
        "colab": {
          "base_uri": "https://localhost:8080/"
        },
        "id": "SasPOGsf6pI9",
        "outputId": "4e0d783a-0dd8-4499-95a0-0d4e015435ff"
      },
      "outputs": [
        {
          "name": "stdout",
          "output_type": "stream",
          "text": [
            "{'min_util': -1.7976931348623157e+308, 'min_per': 1, 'max_per': 6, 'min_avg': 1, 'max_avg': 5, 'top_k': 10}\n"
          ]
        }
      ],
      "source": [
        "print(EPM)"
      ]
    },
    {
      "cell_type": "markdown",
      "metadata": {},
      "source": [
        "# Reading database"
      ]
    },
    {
      "cell_type": "code",
      "execution_count": 49,
      "metadata": {},
      "outputs": [
        {
          "name": "stdout",
          "output_type": "stream",
          "text": [
            "10\n"
          ]
        }
      ],
      "source": [
        "UNIT_UTILITY = {}\n",
        "\n",
        "DATASET = list()\n",
        "\n",
        "UNIT_COUNT = {}\n",
        "\n",
        "with open('data/retail_negative.txt', 'r') as file:\n",
        "    count = 0\n",
        "    for line in file:\n",
        "        temp_struc = line.split(\":\")\n",
        "        temp_items = list(map(lambda x: \"item\" + x, temp_struc[0].split(\" \")))\n",
        "        temp_profits = list(map(int, temp_struc[2].split(\" \")))\n",
        "        temp_transaction = {\n",
        "            \"Tid\": \"T\" + str(count),\n",
        "            \"Item\": temp_items,\n",
        "            \"Quantity\": [1] * len(temp_profits)\n",
        "        }\n",
        "\n",
        "        for i in range(len(temp_items)):\n",
        "            if temp_items[i] not in UNIT_UTILITY:\n",
        "                UNIT_UTILITY[temp_items[i]] = 0\n",
        "                UNIT_COUNT[temp_items[i]] = 0\n",
        "            UNIT_UTILITY[temp_items[i]] += temp_profits[i]\n",
        "            UNIT_COUNT[temp_items[i]] += 1\n",
        "            \n",
        "        DATASET.append(temp_transaction)\n",
        "        count += 1\n",
        "        if count >= 10:\n",
        "            break\n",
        "    print(count)\n",
        "for i in UNIT_UTILITY:\n",
        "    UNIT_UTILITY[i] /= UNIT_COUNT[i]\n",
        "\n",
        "LEN_DATASET = len(DATASET)"
      ]
    },
    {
      "cell_type": "code",
      "execution_count": 50,
      "metadata": {},
      "outputs": [
        {
          "name": "stdout",
          "output_type": "stream",
          "text": [
            "70\n"
          ]
        }
      ],
      "source": [
        "print(len(UNIT_UTILITY))"
      ]
    },
    {
      "cell_type": "markdown",
      "metadata": {
        "id": "Bi9exLsE6pI-"
      },
      "source": [
        "## Preparation Procedure"
      ]
    },
    {
      "cell_type": "markdown",
      "metadata": {
        "id": "ylhO4WSS6pI-"
      },
      "source": [
        "The Transaction Weight Utility (TWU) of item \\( i \\) is given by:\n",
        "\n",
        "Def 6\n",
        "Def 4\n",
        "\\[\n",
        "{TWU}(i) = \\sum_{{X \\in T_j \\\\ T_j \\subseteq D}} P_U(T_j)\n",
        "\\]\n",
        "\n",
        "calculate maxPer(i), avgPer(i)\n",
        "Def 1, Def 2\n",
        "\n",
        "rearrange order\n",
        "Def 7\n"
      ]
    },
    {
      "cell_type": "code",
      "execution_count": 51,
      "metadata": {
        "id": "AYXfoyL46pI-"
      },
      "outputs": [],
      "source": [
        "# Function to create a periodic high-utility itemset based on given constraints\n",
        "# Input explain: dataset: dictionary contain all original transactions, unit_utility: utility of each item, epm: contain minUtility, maxper, minper, maxavg, minavg\n",
        "# Output: temp_dataset: dataset contains transactions with qualified items, EUCS_LIST: contain EUCS of item pairs, order_list: order of items acording to defined order\n",
        "def create_periodic_high_util_itemset(dataset: list, unit_utility: dict, epm: dict) -> list:\n",
        "    # Dictionaries to store total weighted utility (TWU) values and transaction-based TWU\n",
        "    twu_dict = dict()\n",
        "    twu_transaction_dict = dict()\n",
        "    \n",
        "    # Dictionaries for periodic support (PS), transaction records, and filtering\n",
        "    ps_dict = dict()\n",
        "    transaction_dict = dict()\n",
        "    \n",
        "    # Step 1: Calculate TWU for each item and record transactions\n",
        "    for i in dataset:\n",
        "        twu_transaction_dict[i['Tid']] = 0  # Initialize TWU for the transaction\n",
        "        \n",
        "        for j in range(len(i['Item'])):\n",
        "            # Initialize dictionaries for new items\n",
        "            if i['Item'][j] not in twu_dict:\n",
        "                twu_dict[i['Item'][j]] = 0\n",
        "                transaction_dict[i['Item'][j]] = []\n",
        "                ps_dict[i['Item'][j]] = []\n",
        "\n",
        "            # Calculate transaction-level TWU\n",
        "            twu_transaction_dict[i['Tid']] += i['Quantity'][j] * unit_utility[i['Item'][j]] if unit_utility[i['Item'][j]] > 0 else 0\n",
        "            transaction_dict[i['Item'][j]].append(int(i['Tid'][1:]))  # Store transaction ID\n",
        "        \n",
        "        # Aggregate TWU for each item\n",
        "        for j in range(len(i['Item'])):\n",
        "            twu_dict[i['Item'][j]] += twu_transaction_dict[i['Tid']]\n",
        "\n",
        "    # Step 2: Update the minimum utility threshold (min_util) based on top-k selection\n",
        "    sorted_twu_list = list(sorted(twu_dict.items(), key=lambda item: item[1]))\n",
        "    epm[\"min_util\"] = sorted_twu_list[epm[\"top_k\"] - 1][1] if epm[\"top_k\"] - 1 < len(sorted_twu_list) else sorted_twu_list[-1][1]\n",
        "\n",
        "    # Step 3: Compute periodic support (PS) values for each item\n",
        "    for i in transaction_dict.keys():\n",
        "        ps_dict[i].append(transaction_dict[i][0] + 1)  # First transaction gap\n",
        "        \n",
        "        for j in range(1, len(transaction_dict[i])):\n",
        "            ps_dict[i].append(transaction_dict[i][j] - transaction_dict[i][j - 1])  # Compute gaps between transactions\n",
        "        \n",
        "        # Compute the last gap to the end of the dataset\n",
        "        if LEN_DATASET - 1 - transaction_dict[i][-1] > 0:\n",
        "            ps_dict[i].append(LEN_DATASET - 1 - transaction_dict[i][-1])\n",
        "    \n",
        "    # Step 4: Filter items based on periodic constraints\n",
        "    temp_dataset = list()\n",
        "    eucs_dict = dict()\n",
        "    order_set = set()\n",
        "\n",
        "    for i in dataset:\n",
        "        temp_item_quantity = list()  # Temporary list to store filtered items\n",
        "\n",
        "        for j in range(len(i['Item'])):\n",
        "            avg_item = sum(ps_dict[i['Item'][j]]) / len(ps_dict[i['Item'][j]])  # Compute average period\n",
        "            # Apply filtering conditions based on min_util, max_per, and min_avg\n",
        "            if twu_dict[i['Item'][j]] > epm['min_util'] and max(ps_dict[i['Item'][j]]) <= epm['max_per'] \\\n",
        "                    and avg_item >= epm['min_avg']:\n",
        "                \n",
        "                # Store item details\n",
        "                temp_item_quantity.append((i['Item'][j], i['Quantity'][j], unit_utility[i['Item'][j]], twu_dict[i['Item'][j]]))\n",
        "                order_set.add((i['Item'][j], unit_utility[i['Item'][j]], twu_dict[i['Item'][j]]))\n",
        "\n",
        "        # Sort items based on TWU values and unit utility\n",
        "        temp_item_quantity.sort(key=lambda x: x[3])\n",
        "        print(temp_item_quantity)  # Debugging print statement\n",
        "        temp_item_quantity.sort(key=lambda x: x[2])\n",
        "        print(temp_item_quantity)  # Debugging print statement\n",
        "        \n",
        "        # Store filtered transaction data\n",
        "        temp_dataset.append(\n",
        "            {\n",
        "                'Tid': i['Tid'],\n",
        "                'Item': list(map(lambda x: x[0], temp_item_quantity)),  # Extract sorted item list\n",
        "                'Quantity': list(map(lambda x: x[1], temp_item_quantity))  # Extract corresponding quantities\n",
        "            }\n",
        "        )\n",
        "\n",
        "    # Step 5: Generate ordered item list for further processing\n",
        "    order_list = list(order_set)\n",
        "    order_list.sort(key=lambda x: x[2])  # Sort based on TWU values\n",
        "    order_list.sort(key=lambda x: x[1])  # Sort based on unit utility\n",
        "    order_list = [i[0] for i in order_list]  # Extract ordered item names\n",
        "\n",
        "    # Step 6: Compute pairwise Extended Utility Contribution Score (EUCS)\n",
        "    for i in temp_dataset:\n",
        "        for j in range(len(i['Item']) - 1):\n",
        "            for k in range(j + 1, len(i['Item'])):\n",
        "                # Create pairwise item combinations and store their TWU contributions\n",
        "                if i['Item'][j] + i['Item'][k] not in eucs_dict:\n",
        "                    eucs_dict[i['Item'][j] + i['Item'][k]] = 0\n",
        "                eucs_dict[i['Item'][j] + i['Item'][k]] += twu_transaction_dict[i['Tid']]\n",
        "\n",
        "    return temp_dataset, eucs_dict, order_list  # Return processed dataset, EUCS dictionary, and ordered items"
      ]
    },
    {
      "cell_type": "code",
      "execution_count": 52,
      "metadata": {
        "colab": {
          "base_uri": "https://localhost:8080/"
        },
        "id": "OP9Lst_Q6pI-",
        "outputId": "c7170d41-7841-49f6-f006-4669daf0cf5e"
      },
      "outputs": [
        {
          "name": "stdout",
          "output_type": "stream",
          "text": [
            "[]\n",
            "[]\n",
            "[('item32', 1, 29.333333333333332, 106.99999999999999)]\n",
            "[('item32', 1, 29.333333333333332, 106.99999999999999)]\n",
            "[]\n",
            "[]\n",
            "[('item36', 1, 48.0, 163.33333333333334), ('item37', 1, -15.0, 163.33333333333334), ('item40', 1, -9.0, 163.33333333333334), ('item42', 1, 21.0, 163.33333333333334), ('item43', 1, 3.0, 163.33333333333334), ('item44', 1, 10.0, 163.33333333333334), ('item45', 1, 35.0, 163.33333333333334), ('item46', 1, -27.0, 163.33333333333334), ('item41', 1, -16.0, 200.66666666666669), ('item38', 1, 37.333333333333336, 385.0), ('item39', 1, 9.0, 394.0)]\n",
            "[('item46', 1, -27.0, 163.33333333333334), ('item41', 1, -16.0, 200.66666666666669), ('item37', 1, -15.0, 163.33333333333334), ('item40', 1, -9.0, 163.33333333333334), ('item43', 1, 3.0, 163.33333333333334), ('item39', 1, 9.0, 394.0), ('item44', 1, 10.0, 163.33333333333334), ('item42', 1, 21.0, 163.33333333333334), ('item45', 1, 35.0, 163.33333333333334), ('item38', 1, 37.333333333333336, 385.0), ('item36', 1, 48.0, 163.33333333333334)]\n",
            "[('item47', 1, 12.0, 58.333333333333336), ('item48', 1, -33.333333333333336, 230.66666666666669), ('item38', 1, 37.333333333333336, 385.0), ('item39', 1, 9.0, 394.0)]\n",
            "[('item48', 1, -33.333333333333336, 230.66666666666669), ('item39', 1, 9.0, 394.0), ('item47', 1, 12.0, 58.333333333333336), ('item38', 1, 37.333333333333336, 385.0)]\n",
            "[('item49', 1, -20.0, 163.33333333333334), ('item50', 1, -16.0, 163.33333333333334), ('item51', 1, 10.0, 163.33333333333334), ('item52', 1, 9.0, 163.33333333333334), ('item53', 1, -16.0, 163.33333333333334), ('item54', 1, 35.0, 163.33333333333334), ('item55', 1, 21.0, 163.33333333333334), ('item56', 1, 9.0, 163.33333333333334), ('item57', 1, 12.0, 163.33333333333334), ('item58', 1, 21.0, 163.33333333333334), ('item48', 1, -33.333333333333336, 230.66666666666669), ('item38', 1, 37.333333333333336, 385.0), ('item39', 1, 9.0, 394.0)]\n",
            "[('item48', 1, -33.333333333333336, 230.66666666666669), ('item49', 1, -20.0, 163.33333333333334), ('item50', 1, -16.0, 163.33333333333334), ('item53', 1, -16.0, 163.33333333333334), ('item52', 1, 9.0, 163.33333333333334), ('item56', 1, 9.0, 163.33333333333334), ('item39', 1, 9.0, 394.0), ('item51', 1, 10.0, 163.33333333333334), ('item57', 1, 12.0, 163.33333333333334), ('item55', 1, 21.0, 163.33333333333334), ('item58', 1, 21.0, 163.33333333333334), ('item54', 1, 35.0, 163.33333333333334), ('item38', 1, 37.333333333333336, 385.0)]\n",
            "[('item32', 1, 29.333333333333332, 106.99999999999999), ('item41', 1, -16.0, 200.66666666666669)]\n",
            "[('item41', 1, -16.0, 200.66666666666669), ('item32', 1, 29.333333333333332, 106.99999999999999)]\n",
            "[('item48', 1, -33.333333333333336, 230.66666666666669), ('item39', 1, 9.0, 394.0)]\n",
            "[('item48', 1, -33.333333333333336, 230.66666666666669), ('item39', 1, 9.0, 394.0)]\n",
            "[]\n",
            "[]\n",
            "[('item32', 1, 29.333333333333332, 106.99999999999999)]\n",
            "[('item32', 1, 29.333333333333332, 106.99999999999999)]\n"
          ]
        }
      ],
      "source": [
        "NEW_DATASET, EUCS_LIST, ORDER_LIST = create_periodic_high_util_itemset(dataset=DATASET, unit_utility=UNIT_UTILITY, epm=EPM)"
      ]
    },
    {
      "cell_type": "code",
      "execution_count": 53,
      "metadata": {},
      "outputs": [],
      "source": [
        "# Reset EPM\n",
        "EPM = {\n",
        "    'min_util': -sys.float_info.max,\n",
        "    'min_per': 1,\n",
        "    'max_per': 6,\n",
        "    'min_avg': 1,\n",
        "    'max_avg': 5,\n",
        "    'top_k' : 10\n",
        "}"
      ]
    },
    {
      "cell_type": "code",
      "execution_count": 54,
      "metadata": {
        "colab": {
          "base_uri": "https://localhost:8080/"
        },
        "id": "OVv6RJmk6pI-",
        "outputId": "029e49f8-8406-449d-bb8d-ff9d9966c55c"
      },
      "outputs": [
        {
          "name": "stdout",
          "output_type": "stream",
          "text": [
            "{'Tid': 'T0', 'Item': [], 'Quantity': []}\n",
            "{'Tid': 'T1', 'Item': ['item32'], 'Quantity': [1]}\n",
            "{'Tid': 'T2', 'Item': [], 'Quantity': []}\n",
            "{'Tid': 'T3', 'Item': ['item46', 'item41', 'item37', 'item40', 'item43', 'item39', 'item44', 'item42', 'item45', 'item38', 'item36'], 'Quantity': [1, 1, 1, 1, 1, 1, 1, 1, 1, 1, 1]}\n",
            "{'Tid': 'T4', 'Item': ['item48', 'item39', 'item47', 'item38'], 'Quantity': [1, 1, 1, 1]}\n",
            "{'Tid': 'T5', 'Item': ['item48', 'item49', 'item50', 'item53', 'item52', 'item56', 'item39', 'item51', 'item57', 'item55', 'item58', 'item54', 'item38'], 'Quantity': [1, 1, 1, 1, 1, 1, 1, 1, 1, 1, 1, 1, 1]}\n",
            "{'Tid': 'T6', 'Item': ['item41', 'item32'], 'Quantity': [1, 1]}\n",
            "{'Tid': 'T7', 'Item': ['item48', 'item39'], 'Quantity': [1, 1]}\n",
            "{'Tid': 'T8', 'Item': [], 'Quantity': []}\n",
            "{'Tid': 'T9', 'Item': ['item32'], 'Quantity': [1]}\n"
          ]
        }
      ],
      "source": [
        "for i in NEW_DATASET:\n",
        "    print(i)"
      ]
    },
    {
      "cell_type": "code",
      "execution_count": 55,
      "metadata": {
        "colab": {
          "base_uri": "https://localhost:8080/"
        },
        "id": "wLus82ed6pI_",
        "outputId": "a4212475-4688-4d3f-cb08-89ea3a9aa156"
      },
      "outputs": [
        {
          "name": "stdout",
          "output_type": "stream",
          "text": [
            "{'item46item41': 163.33333333333334, 'item46item37': 163.33333333333334, 'item46item40': 163.33333333333334, 'item46item43': 163.33333333333334, 'item46item39': 163.33333333333334, 'item46item44': 163.33333333333334, 'item46item42': 163.33333333333334, 'item46item45': 163.33333333333334, 'item46item38': 163.33333333333334, 'item46item36': 163.33333333333334, 'item41item37': 163.33333333333334, 'item41item40': 163.33333333333334, 'item41item43': 163.33333333333334, 'item41item39': 163.33333333333334, 'item41item44': 163.33333333333334, 'item41item42': 163.33333333333334, 'item41item45': 163.33333333333334, 'item41item38': 163.33333333333334, 'item41item36': 163.33333333333334, 'item37item40': 163.33333333333334, 'item37item43': 163.33333333333334, 'item37item39': 163.33333333333334, 'item37item44': 163.33333333333334, 'item37item42': 163.33333333333334, 'item37item45': 163.33333333333334, 'item37item38': 163.33333333333334, 'item37item36': 163.33333333333334, 'item40item43': 163.33333333333334, 'item40item39': 163.33333333333334, 'item40item44': 163.33333333333334, 'item40item42': 163.33333333333334, 'item40item45': 163.33333333333334, 'item40item38': 163.33333333333334, 'item40item36': 163.33333333333334, 'item43item39': 163.33333333333334, 'item43item44': 163.33333333333334, 'item43item42': 163.33333333333334, 'item43item45': 163.33333333333334, 'item43item38': 163.33333333333334, 'item43item36': 163.33333333333334, 'item39item44': 163.33333333333334, 'item39item42': 163.33333333333334, 'item39item45': 163.33333333333334, 'item39item38': 385.0, 'item39item36': 163.33333333333334, 'item44item42': 163.33333333333334, 'item44item45': 163.33333333333334, 'item44item38': 163.33333333333334, 'item44item36': 163.33333333333334, 'item42item45': 163.33333333333334, 'item42item38': 163.33333333333334, 'item42item36': 163.33333333333334, 'item45item38': 163.33333333333334, 'item45item36': 163.33333333333334, 'item38item36': 163.33333333333334, 'item48item39': 230.66666666666669, 'item48item47': 58.333333333333336, 'item48item38': 221.66666666666669, 'item39item47': 58.333333333333336, 'item47item38': 58.333333333333336, 'item48item49': 163.33333333333334, 'item48item50': 163.33333333333334, 'item48item53': 163.33333333333334, 'item48item52': 163.33333333333334, 'item48item56': 163.33333333333334, 'item48item51': 163.33333333333334, 'item48item57': 163.33333333333334, 'item48item55': 163.33333333333334, 'item48item58': 163.33333333333334, 'item48item54': 163.33333333333334, 'item49item50': 163.33333333333334, 'item49item53': 163.33333333333334, 'item49item52': 163.33333333333334, 'item49item56': 163.33333333333334, 'item49item39': 163.33333333333334, 'item49item51': 163.33333333333334, 'item49item57': 163.33333333333334, 'item49item55': 163.33333333333334, 'item49item58': 163.33333333333334, 'item49item54': 163.33333333333334, 'item49item38': 163.33333333333334, 'item50item53': 163.33333333333334, 'item50item52': 163.33333333333334, 'item50item56': 163.33333333333334, 'item50item39': 163.33333333333334, 'item50item51': 163.33333333333334, 'item50item57': 163.33333333333334, 'item50item55': 163.33333333333334, 'item50item58': 163.33333333333334, 'item50item54': 163.33333333333334, 'item50item38': 163.33333333333334, 'item53item52': 163.33333333333334, 'item53item56': 163.33333333333334, 'item53item39': 163.33333333333334, 'item53item51': 163.33333333333334, 'item53item57': 163.33333333333334, 'item53item55': 163.33333333333334, 'item53item58': 163.33333333333334, 'item53item54': 163.33333333333334, 'item53item38': 163.33333333333334, 'item52item56': 163.33333333333334, 'item52item39': 163.33333333333334, 'item52item51': 163.33333333333334, 'item52item57': 163.33333333333334, 'item52item55': 163.33333333333334, 'item52item58': 163.33333333333334, 'item52item54': 163.33333333333334, 'item52item38': 163.33333333333334, 'item56item39': 163.33333333333334, 'item56item51': 163.33333333333334, 'item56item57': 163.33333333333334, 'item56item55': 163.33333333333334, 'item56item58': 163.33333333333334, 'item56item54': 163.33333333333334, 'item56item38': 163.33333333333334, 'item39item51': 163.33333333333334, 'item39item57': 163.33333333333334, 'item39item55': 163.33333333333334, 'item39item58': 163.33333333333334, 'item39item54': 163.33333333333334, 'item51item57': 163.33333333333334, 'item51item55': 163.33333333333334, 'item51item58': 163.33333333333334, 'item51item54': 163.33333333333334, 'item51item38': 163.33333333333334, 'item57item55': 163.33333333333334, 'item57item58': 163.33333333333334, 'item57item54': 163.33333333333334, 'item57item38': 163.33333333333334, 'item55item58': 163.33333333333334, 'item55item54': 163.33333333333334, 'item55item38': 163.33333333333334, 'item58item54': 163.33333333333334, 'item58item38': 163.33333333333334, 'item54item38': 163.33333333333334, 'item41item32': 37.33333333333333}\n"
          ]
        }
      ],
      "source": [
        "print(EUCS_LIST)"
      ]
    },
    {
      "cell_type": "markdown",
      "metadata": {
        "id": "rXcuZEHz6pI_"
      },
      "source": [
        "## Searching stage"
      ]
    },
    {
      "cell_type": "code",
      "execution_count": 56,
      "metadata": {
        "id": "LcCfJOrh6pI_"
      },
      "outputs": [],
      "source": [
        "# Function to construct a new itemset by merging two input lists based on utility and periodic conditions\n",
        "# Input:\n",
        "#   - prefix_list: List containing prefix utilities (can be None)\n",
        "#   - x: List containing utility and periodic values for itemset X\n",
        "#   - y: List containing utility and periodic values for itemset Y\n",
        "# Output:\n",
        "#   - result: List containing merged itemsets with updated utility and periodic values\n",
        "def construct(prefix_list: list, x: list, y: list) -> list:\n",
        "    pre_pointer = 0  # Pointer for prefix list\n",
        "    x_pointer = 0  # Pointer for itemset X\n",
        "    y_pointer = 0  # Pointer for itemset Y\n",
        "    result = list()  # List to store constructed itemsets\n",
        "\n",
        "    while x_pointer < len(x) and y_pointer < len(y):\n",
        "        if x[x_pointer][0] < y[y_pointer][0]:\n",
        "            x_pointer += 1\n",
        "        elif x[x_pointer][0] > y[y_pointer][0]:\n",
        "            y_pointer += 1\n",
        "        else:\n",
        "            if prefix_list is not None:\n",
        "                while prefix_list[pre_pointer][0] < x[x_pointer][0]:\n",
        "                    pre_pointer += 1\n",
        "                result.append([\n",
        "                    pre_pointer,  # Position index in prefix list\n",
        "                    x[x_pointer][1] + y[y_pointer][1] - prefix_list[pre_pointer][1],  # Adjusted utility\n",
        "                    min(x[x_pointer][2], y[y_pointer][2])  # Minimum periodic value\n",
        "                ])\n",
        "                x_pointer += 1\n",
        "                y_pointer += 1\n",
        "                pre_pointer += 1\n",
        "            else:\n",
        "                result.append([\n",
        "                    x_pointer,\n",
        "                    x[x_pointer][1] + y[y_pointer][1],  # Sum of utilities\n",
        "                    min(x[x_pointer][2], y[y_pointer][2])  # Minimum periodic value\n",
        "                ])\n",
        "                x_pointer += 1\n",
        "                y_pointer += 1\n",
        "    return result\n",
        "\n",
        "# Function to check if an itemset meets the minimum utility condition\n",
        "# Input: \n",
        "#   - x: List containing item utilities\n",
        "#   - minutil: Minimum required utility threshold\n",
        "# Output:\n",
        "#   - Boolean: True if total utility of x meets minutil, otherwise False\n",
        "def utility_condition(x, minutil):\n",
        "    return sum(i[1] for i in x) >= minutil\n",
        "\n",
        "# Function to calculate the total utility of an itemset\n",
        "# Input: \n",
        "#   - x: List containing utility values\n",
        "# Output:\n",
        "#   - Sum of utility values in x\n",
        "def get_utility(x):\n",
        "    return sum(i[1] for i in x)\n",
        "\n",
        "# Function to calculate periodic statistics of an itemset (max, min, avg)\n",
        "# Input: \n",
        "#   - x: List of item indices\n",
        "# Output:\n",
        "#   - max_period: Maximum periodic gap\n",
        "#   - min_period: Minimum periodic gap (if zero, set to 1)\n",
        "#   - avg_period: Average periodic gap\n",
        "def calculate_periodic(x):\n",
        "    periodic = [x[0][0] + 1]  # Initial periodic gap based on first element\n",
        "    keys = x  # Store the input list\n",
        "\n",
        "    for i in range(len(keys) - 1):\n",
        "        periodic.append(keys[i + 1][0] - keys[i][0])\n",
        "\n",
        "    periodic.append(LEN_DATASET - 1 - keys[-1][0])  # Last gap calculation\n",
        "\n",
        "    return max(periodic), min(periodic) if min(periodic) > 0 else 1, sum(periodic) / len(periodic)\n",
        "\n",
        "# Function to check if an itemset satisfies periodic constraints\n",
        "# Input:\n",
        "#   - x: List containing item periodic values\n",
        "#   - minper, maxper, minavg, maxavg: Constraints on periodic values\n",
        "# Output:\n",
        "#   - Boolean: True if itemset meets all constraints, otherwise False\n",
        "def periodic_condition(x, minper, maxper, minavg, maxavg):\n",
        "    max_i, min_i, avg_i = calculate_periodic(x)\n",
        "    return min_i >= minper and max_i <= maxper and avg_i >= minavg and avg_i <= maxavg\n",
        "\n",
        "# Function to check if an itemset meets the remaining utility (RU) condition\n",
        "# Input:\n",
        "#   - x: List containing remaining utility values\n",
        "#   - minutil: Minimum required utility threshold\n",
        "# Output:\n",
        "#   - Boolean: True if remaining utility meets minutil, otherwise False\n",
        "def ru_condition(x, minutil):\n",
        "    return sum(i[2] for i in x) >= minutil\n",
        "\n",
        "# Function to check if an itemset satisfies the maximum periodic condition\n",
        "# Input:\n",
        "#   - x: List containing periodic values\n",
        "#   - maxper: Maximum allowed periodic value\n",
        "# Output:\n",
        "#   - Boolean: True if max periodic gap ≤ maxper, otherwise False\n",
        "def max_per_condition(x, maxper):\n",
        "    max_x, min_x, avg_x = calculate_periodic(x)\n",
        "    return max_x <= maxper\n",
        "\n",
        "# Function to check if an itemset satisfies the average periodic condition\n",
        "# Input:\n",
        "#   - x: List containing periodic values\n",
        "#   - maxavg: Maximum allowed average periodic value\n",
        "# Output:\n",
        "#   - Boolean: True if average periodic gap ≤ maxavg, otherwise False\n",
        "def avg_per_condition(x, maxavg):\n",
        "    max_x, min_x, avg_x = calculate_periodic(x)\n",
        "    return avg_x <= maxavg\n",
        "\n",
        "# Function to generate a combined name for two items\n",
        "# Input:\n",
        "#   - X: Name of the first item\n",
        "#   - Y: Name of the second item\n",
        "# Output:\n",
        "#   - String: Concatenated name of the two items\n",
        "def get_name(X, Y):\n",
        "    temp_x = X.split(\"item\")  # Extract item number from X\n",
        "    temp_y = Y.split(\"item\")  # Extract item number from Y\n",
        "    return \"item\" + temp_x[-1] + \"item\" + temp_y[-1]  # Combine item numbers\n",
        "\n",
        "# Function to check if the extended utility contribution pruning (EUCP) condition is met\n",
        "# Input:\n",
        "#   - X, Y: Names of two items\n",
        "#   - eucs_list: Dictionary containing EUC values of item pairs\n",
        "#   - minutil: Minimum required utility threshold\n",
        "# Output:\n",
        "#   - Boolean: True if EUC value meets minutil, otherwise False\n",
        "def eucp_condition(X, Y, eucs_list, minutil):\n",
        "    items_name = get_name(X, Y)  # Generate itemset name\n",
        "    return eucs_list[items_name] >= minutil\n"
      ]
    },
    {
      "cell_type": "code",
      "execution_count": 57,
      "metadata": {
        "id": "gv1ggXK-6pI_"
      },
      "outputs": [],
      "source": [
        "# Function to perform PHM search for periodic high-utility itemsets\n",
        "# This function applies utility and periodic conditions to identify high-utility itemsets \n",
        "# and recursively expands qualified itemsets.\n",
        "#\n",
        "# Input:\n",
        "#   - prefix: Current prefix itemset (used for tracking the sequence)\n",
        "#   - prefix_list: List containing utility values of the prefix itemset\n",
        "#   - lists: Dictionary mapping itemsets to their utility and periodic values\n",
        "#   - order_list: List defining the order of itemsets to be processed\n",
        "#\n",
        "# Output:\n",
        "#   - result: A set of high-utility itemsets that satisfy periodic constraints\n",
        "def phm_seach(prefix: str, prefix_list: list, lists: dict, order_list: list) -> set:\n",
        "    result = list()  # Store qualified itemsets\n",
        "    key_lists = list()  # Filtered order list containing only items present in 'lists'\n",
        "\n",
        "    # Step 1: Filter items that exist in 'lists'\n",
        "    for i in order_list:\n",
        "        if i in lists:\n",
        "            key_lists.append(i)\n",
        "\n",
        "    # Step 2: Evaluate each item in the filtered list\n",
        "    for i in key_lists:\n",
        "        # Check if the current item satisfies both utility and periodic conditions\n",
        "        if utility_condition(lists[i], EPM['min_util']) and periodic_condition(lists[i], EPM['min_per'], EPM['max_per'], EPM['min_avg'], EPM['max_avg']):\n",
        "            result.append((i, get_utility(lists[i])))\n",
        "\n",
        "            # Maintain only top-k high-utility itemsets\n",
        "            if len(result) > EPM[\"top_k\"]:\n",
        "                result.sort(key=lambda x: x[1], reverse=True)  # Sort by utility in descending order\n",
        "                result = result[:EPM[\"top_k\"]]  # Keep only the top-k elements\n",
        "                EPM[\"min_util\"] = result[-1][1]  # Update minimum utility threshold\n",
        "\n",
        "        # Step 3: Check if item is expandable based on remaining utility and periodic conditions\n",
        "        if ru_condition(lists[i], EPM['min_util']) and max_per_condition(lists[i], EPM['max_per']) and avg_per_condition(lists[i], EPM['max_avg']):\n",
        "            new_list = dict()  # Dictionary to store new extended itemsets\n",
        "            new_order_list = list()  # List of new itemsets to be processed\n",
        "\n",
        "            # Iterate over the remaining items in the list\n",
        "            for j in key_lists[key_lists.index(i) + 1:]:\n",
        "                if get_name(i, j) not in EUCS_LIST:\n",
        "                    continue  # Skip if item pair does not exist in EUCS list\n",
        "\n",
        "                # Check if the item pair satisfies the EUCP condition\n",
        "                if eucp_condition(i, j, EUCS_LIST, EPM['min_util']):\n",
        "                    # Generate the new itemset name\n",
        "                    z = get_name(i, j) if prefix is None else prefix + get_name(i, j)\n",
        "\n",
        "                    # Construct a new itemset by merging current items\n",
        "                    z_list = construct(prefix_list, lists[i], lists[j])\n",
        "\n",
        "                    # Store the new itemset and update order list\n",
        "                    new_list[z] = z_list\n",
        "                    new_order_list.append(z)\n",
        "\n",
        "            # Recursively search for new periodic high-utility itemsets\n",
        "            result.extend(phm_seach(i, lists[i], new_list, new_order_list))\n",
        "\n",
        "            # Maintain only top-k high-utility itemsets after recursion\n",
        "            if len(result) > EPM[\"top_k\"]:\n",
        "                result.sort(key=lambda x: x[1], reverse=True)  # Sort by utility in descending order\n",
        "                result = result[:EPM[\"top_k\"]]  # Keep only the top-k elements\n",
        "                EPM[\"min_util\"] = result[-1][1]  # Update minimum utility threshold\n",
        "\n",
        "    return result  # Return the final list of high-utility itemsets\n"
      ]
    },
    {
      "cell_type": "code",
      "execution_count": 58,
      "metadata": {
        "colab": {
          "base_uri": "https://localhost:8080/"
        },
        "id": "Gr4ZFYKZ6pI_",
        "outputId": "8c5b6401-0aa1-40a0-92b2-7ffa96f3697e"
      },
      "outputs": [],
      "source": [
        "utility_list = dict()\n",
        "pnu_utility_list = dict()\n",
        "for i in NEW_DATASET:\n",
        "    total = 0\n",
        "    for j in range(len(i['Item']) - 1, -1, -1):\n",
        "\n",
        "        if i['Item'][j] not in utility_list:\n",
        "            utility_list[i['Item'][j]] = list()\n",
        "            pnu_utility_list[i['Item'][j]] = list()\n",
        "\n",
        "        utility_list[i['Item'][j]].append([int(i['Tid'][1:]), UNIT_UTILITY[i['Item'][j]]*i['Quantity'][j], total])\n",
        "        \n",
        "        if UNIT_UTILITY[i['Item'][j]] < 0:\n",
        "            pnu_utility_list[i['Item'][j]].append([int(i['Tid'][1:]), 0, UNIT_UTILITY[i['Item'][j]]*i['Quantity'][j], total])\n",
        "        else:\n",
        "            pnu_utility_list[i['Item'][j]].append([int(i['Tid'][1:]), UNIT_UTILITY[i['Item'][j]]*i['Quantity'][j], 0, total])\n",
        "\n",
        "        total += UNIT_UTILITY[i['Item'][j]]*i['Quantity'][j] if UNIT_UTILITY[i['Item'][j]] > 0 else 0"
      ]
    },
    {
      "cell_type": "code",
      "execution_count": 59,
      "metadata": {
        "colab": {
          "base_uri": "https://localhost:8080/"
        },
        "id": "fjoeF4mL6pJA",
        "outputId": "0ea9ea48-8d6d-4ea5-8068-38c61fd41c13"
      },
      "outputs": [],
      "source": [
        "result = phm_seach(None, None, utility_list, ORDER_LIST)"
      ]
    },
    {
      "cell_type": "code",
      "execution_count": 60,
      "metadata": {
        "colab": {
          "base_uri": "https://localhost:8080/"
        },
        "id": "DA1c7GIj8GSq",
        "outputId": "9710b0c7-df54-4e68-c760-598250722d06"
      },
      "outputs": [
        {
          "name": "stdout",
          "output_type": "stream",
          "text": [
            "[('item38', 112.0), ('item32', 88.0), ('item36', 48.0), ('item39', 36.0), ('item45', 35.0), ('item54', 35.0), ('item55', 21.0), ('item58', 21.0), ('item42', 21.0), ('item47', 12.0)]\n"
          ]
        }
      ],
      "source": [
        "print(result)"
      ]
    }
  ],
  "metadata": {
    "colab": {
      "provenance": []
    },
    "kernelspec": {
      "display_name": "recommend_sys",
      "language": "python",
      "name": "python3"
    },
    "language_info": {
      "codemirror_mode": {
        "name": "ipython",
        "version": 3
      },
      "file_extension": ".py",
      "mimetype": "text/x-python",
      "name": "python",
      "nbconvert_exporter": "python",
      "pygments_lexer": "ipython3",
      "version": "3.12.3"
    }
  },
  "nbformat": 4,
  "nbformat_minor": 0
}
