{
 "cells": [
  {
   "cell_type": "markdown",
   "metadata": {},
   "source": [
    "## Create CONSTANTS"
   ]
  },
  {
   "cell_type": "code",
   "execution_count": 34,
   "metadata": {},
   "outputs": [],
   "source": [
    "DATASET = [\n",
    "    {\n",
    "        'Tid': 'T1',\n",
    "        'Item': ['a', 'b', 'c', 'd'],\n",
    "        'Quantity': [5,2,1,2]\n",
    "    },\n",
    "    {\n",
    "        'Tid': 'T2',\n",
    "        'Item': ['a', 'c', 'd', 'g'],\n",
    "        'Quantity': [1,1,1,3]\n",
    "    },\n",
    "    {\n",
    "        'Tid': 'T3',\n",
    "        'Item': ['a', 'c', 'f'],\n",
    "        'Quantity': [1,1,1]\n",
    "    },\n",
    "    {\n",
    "        'Tid': 'T4',\n",
    "        'Item': ['a', 'f', 'g'],\n",
    "        'Quantity': [1,4,2]\n",
    "    },\n",
    "    {\n",
    "        'Tid': 'T5',\n",
    "        'Item': ['a', 'g'],\n",
    "        'Quantity': [1,2]\n",
    "    },\n",
    "    {\n",
    "        'Tid': 'T6',\n",
    "        'Item': ['b', 'c', 'd', 'e'],\n",
    "        'Quantity': [3,2,3,1]\n",
    "    },\n",
    "    {\n",
    "        'Tid': 'T7',\n",
    "        'Item': ['c', 'e'],\n",
    "        'Quantity': [6,4]\n",
    "    },\n",
    "    {\n",
    "        'Tid': 'T8',\n",
    "        'Item': ['e', 'f'],\n",
    "        'Quantity': [1,3]\n",
    "    }\n",
    "]\n",
    "UNIT_UTILITY = {\n",
    "    'a': 3,\n",
    "    'b': 6,\n",
    "    'c': -3,\n",
    "    'd': 12,\n",
    "    'e': -5,\n",
    "    'f': -2,\n",
    "    'g': -1\n",
    "}\n",
    "\n",
    "EPM = {\n",
    "    'min_util': 30,\n",
    "    'min_per': 1,\n",
    "    'max_per': 5,\n",
    "    'min_avg': 1,\n",
    "    'max_avg': 3\n",
    "}"
   ]
  },
  {
   "cell_type": "markdown",
   "metadata": {},
   "source": [
    "### Show global variable"
   ]
  },
  {
   "cell_type": "code",
   "execution_count": 35,
   "metadata": {},
   "outputs": [
    {
     "name": "stdout",
     "output_type": "stream",
     "text": [
      "{'Tid': 'T1', 'Item': ['a', 'b', 'c', 'd'], 'Quantity': [5, 2, 1, 2]}\n",
      "{'Tid': 'T2', 'Item': ['a', 'c', 'd', 'g'], 'Quantity': [1, 1, 1, 3]}\n",
      "{'Tid': 'T3', 'Item': ['a', 'c', 'f'], 'Quantity': [1, 1, 1]}\n",
      "{'Tid': 'T4', 'Item': ['a', 'f', 'g'], 'Quantity': [1, 4, 2]}\n",
      "{'Tid': 'T5', 'Item': ['a', 'g'], 'Quantity': [1, 2]}\n",
      "{'Tid': 'T6', 'Item': ['b', 'c', 'd', 'e'], 'Quantity': [3, 2, 3, 1]}\n",
      "{'Tid': 'T7', 'Item': ['c', 'e'], 'Quantity': [6, 4]}\n",
      "{'Tid': 'T8', 'Item': ['e', 'f'], 'Quantity': [1, 3]}\n"
     ]
    }
   ],
   "source": [
    "for i in DATASET:\n",
    "    print(i)"
   ]
  },
  {
   "cell_type": "code",
   "execution_count": 27,
   "metadata": {},
   "outputs": [
    {
     "name": "stdout",
     "output_type": "stream",
     "text": [
      "{'a': 3, 'b': 6, 'c': -3, 'd': 12, 'e': -5, 'f': -2, 'g': -1}\n"
     ]
    }
   ],
   "source": [
    "print(UNIT_UTILITY)"
   ]
  },
  {
   "cell_type": "code",
   "execution_count": 28,
   "metadata": {},
   "outputs": [
    {
     "name": "stdout",
     "output_type": "stream",
     "text": [
      "{'min_util': 30, 'min_per': 1, 'max_per': 5, 'min_avg': 1, 'max_avg': 3}\n"
     ]
    }
   ],
   "source": [
    "print(EPM)"
   ]
  },
  {
   "cell_type": "markdown",
   "metadata": {},
   "source": [
    "## Preparation Procedure"
   ]
  },
  {
   "cell_type": "markdown",
   "metadata": {},
   "source": [
    "The Transaction Weight Utility (TWU) of item \\( i \\) is given by:\n",
    "\n",
    "Def 6\n",
    "Def 4\n",
    "\\[\n",
    "{TWU}(i) = \\sum_{{X \\in T_j \\\\ T_j \\subseteq D}} P_U(T_j)\n",
    "\\]\n",
    "\n",
    "calculate maxPer(i), avgPer(i)\n",
    "Def 1, Def 2\n",
    "\n",
    "rearrange order\n",
    "Def 7\n"
   ]
  },
  {
   "cell_type": "code",
   "execution_count": 63,
   "metadata": {},
   "outputs": [],
   "source": [
    "def create_periodic_high_util_itemset(dataset: list, unit_utility: dict, epm: dict) -> list:\n",
    "    # for i in dataset:\n",
    "    #     print(i)\n",
    "    # calculate TWU of each item in dataset\n",
    "    twu_dict = dict()\n",
    "    twu_transaction_dict = dict()\n",
    "    ps_dict = dict()\n",
    "    transaction_dict = dict()\n",
    "    for i in dataset:\n",
    "        twu_transaction_dict[i['Tid']] = 0\n",
    "        for j in range(len(i['Item'])):\n",
    "            if i['Item'][j] not in twu_dict:\n",
    "                twu_dict[i['Item'][j]] = 0\n",
    "                transaction_dict[i['Item'][j]] = []\n",
    "                ps_dict[i['Item'][j]] = []\n",
    "\n",
    "            twu_transaction_dict[i['Tid']] += i['Quantity'][j] * unit_utility[i['Item'][j]] if unit_utility[i['Item'][j]] > 0 else 0\n",
    "            transaction_dict[i['Item'][j]].append(int(i['Tid'][1:]))\n",
    "\n",
    "        for j in range(len(i['Item'])):\n",
    "            twu_dict[i['Item'][j]] += twu_transaction_dict[i['Tid']]\n",
    "    \n",
    "    # print(twu_transaction_dict)\n",
    "    for i in transaction_dict.keys():\n",
    "        ps_dict[i].append(transaction_dict[i][0])\n",
    "        for j in range(1, len(transaction_dict[i])):\n",
    "            ps_dict[i].append(transaction_dict[i][j] - transaction_dict[i][j - 1])\n",
    "    \n",
    "    temp_dataset = list()\n",
    "    eucs_dict = dict()\n",
    "\n",
    "    for i in dataset:\n",
    "        temp_item_quantity = list()\n",
    "        for j in range(len(i['Item'])):\n",
    "            avg_item = sum(ps_dict[i['Item'][j]])/len(ps_dict[i['Item'][j]])\n",
    "            # print((i['Item'][j], i['Quantity'][j], unit_utility[i['Item'][j]], twu_dict[i['Item'][j]]))\n",
    "            if twu_dict[i['Item'][j]] > epm['min_util'] and max(ps_dict[i['Item'][j]]) <= epm['max_per']\\\n",
    "            and avg_item >= epm['min_avg']:\n",
    "                \n",
    "                temp_item_quantity.append((i['Item'][j], i['Quantity'][j], unit_utility[i['Item'][j]], twu_dict[i['Item'][j]]))\n",
    "\n",
    "        temp_item_quantity.sort(key=lambda x: x[3])\n",
    "        print(temp_item_quantity)\n",
    "        temp_item_quantity.sort(key=lambda x: x[2])\n",
    "        print(temp_item_quantity)\n",
    "        # print(i)\n",
    "        temp_dataset.append(\n",
    "            {\n",
    "                'Tid': i['Tid'],\n",
    "                'Item': list(map(lambda x: x[0], temp_item_quantity)),\n",
    "                'Quantity': list(map(lambda x: x[1], temp_item_quantity))\n",
    "            }\n",
    "        )\n",
    "        # print(i, end='\\n\\n')\n",
    "    \n",
    "    for i in temp_dataset:\n",
    "        for j in range(len(i['Item']) - 1):\n",
    "            if i['Item'][j] + i['Item'][j + 1] not in eucs_dict:\n",
    "                eucs_dict[i['Item'][j] + i['Item'][j + 1]] = 0\n",
    "            eucs_dict[i['Item'][j] + i['Item'][j + 1]] += twu_transaction_dict[i['Tid']]\n",
    "    \n",
    "    return temp_dataset, eucs_dict"
   ]
  },
  {
   "cell_type": "code",
   "execution_count": 64,
   "metadata": {},
   "outputs": [
    {
     "name": "stdout",
     "output_type": "stream",
     "text": [
      "[('a', 5, 3, 75), ('b', 2, 6, 105), ('d', 2, 12, 120), ('c', 1, -3, 123)]\n",
      "[('c', 1, -3, 123), ('a', 5, 3, 75), ('b', 2, 6, 105), ('d', 2, 12, 120)]\n",
      "[('a', 1, 3, 75), ('d', 1, 12, 120), ('c', 1, -3, 123)]\n",
      "[('c', 1, -3, 123), ('a', 1, 3, 75), ('d', 1, 12, 120)]\n",
      "[('a', 1, 3, 75), ('c', 1, -3, 123)]\n",
      "[('c', 1, -3, 123), ('a', 1, 3, 75)]\n",
      "[('a', 1, 3, 75)]\n",
      "[('a', 1, 3, 75)]\n",
      "[('a', 1, 3, 75)]\n",
      "[('a', 1, 3, 75)]\n",
      "[('b', 3, 6, 105), ('d', 3, 12, 120), ('c', 2, -3, 123)]\n",
      "[('c', 2, -3, 123), ('b', 3, 6, 105), ('d', 3, 12, 120)]\n",
      "[('c', 6, -3, 123)]\n",
      "[('c', 6, -3, 123)]\n",
      "[]\n",
      "[]\n"
     ]
    }
   ],
   "source": [
    "NEW_DATASET, EUCS_LIST = create_periodic_high_util_itemset(dataset=DATASET, unit_utility=UNIT_UTILITY, epm=EPM)"
   ]
  },
  {
   "cell_type": "code",
   "execution_count": 65,
   "metadata": {},
   "outputs": [
    {
     "name": "stdout",
     "output_type": "stream",
     "text": [
      "{'Tid': 'T1', 'Item': ['c', 'a', 'b', 'd'], 'Quantity': [1, 5, 2, 2]}\n",
      "{'Tid': 'T2', 'Item': ['c', 'a', 'd'], 'Quantity': [1, 1, 1]}\n",
      "{'Tid': 'T3', 'Item': ['c', 'a'], 'Quantity': [1, 1]}\n",
      "{'Tid': 'T4', 'Item': ['a'], 'Quantity': [1]}\n",
      "{'Tid': 'T5', 'Item': ['a'], 'Quantity': [1]}\n",
      "{'Tid': 'T6', 'Item': ['c', 'b', 'd'], 'Quantity': [2, 3, 3]}\n",
      "{'Tid': 'T7', 'Item': ['c'], 'Quantity': [6]}\n",
      "{'Tid': 'T8', 'Item': [], 'Quantity': []}\n"
     ]
    }
   ],
   "source": [
    "for i in NEW_DATASET:\n",
    "    print(i)"
   ]
  },
  {
   "cell_type": "code",
   "execution_count": 66,
   "metadata": {},
   "outputs": [
    {
     "name": "stdout",
     "output_type": "stream",
     "text": [
      "{'ca': 69, 'ab': 51, 'bd': 105, 'ad': 15, 'cb': 54}\n"
     ]
    }
   ],
   "source": [
    "print(EUCS_LIST)"
   ]
  }
 ],
 "metadata": {
  "kernelspec": {
   "display_name": "Python 3",
   "language": "python",
   "name": "python3"
  },
  "language_info": {
   "codemirror_mode": {
    "name": "ipython",
    "version": 3
   },
   "file_extension": ".py",
   "mimetype": "text/x-python",
   "name": "python",
   "nbconvert_exporter": "python",
   "pygments_lexer": "ipython3",
   "version": "3.12.4"
  }
 },
 "nbformat": 4,
 "nbformat_minor": 2
}
