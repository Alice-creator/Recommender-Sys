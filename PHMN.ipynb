{
 "cells": [
  {
   "cell_type": "markdown",
   "metadata": {},
   "source": [
    "## Create CONSTANTS"
   ]
  },
  {
   "cell_type": "code",
   "execution_count": 49,
   "metadata": {},
   "outputs": [],
   "source": [
    "DATASET = [\n",
    "    {\n",
    "        'Tid': 'T1',\n",
    "        'Item': ['a', 'b', 'c', 'd'],\n",
    "        'Quantity': [5,2,1,2]\n",
    "    },\n",
    "    {\n",
    "        'Tid': 'T2',\n",
    "        'Item': ['a', 'c', 'd', 'g'],\n",
    "        'Quantity': [1,1,1,3]\n",
    "    },\n",
    "    {\n",
    "        'Tid': 'T3',\n",
    "        'Item': ['a', 'c', 'f'],\n",
    "        'Quantity': [1,1,1]\n",
    "    },\n",
    "    {\n",
    "        'Tid': 'T4',\n",
    "        'Item': ['a', 'f', 'g'],\n",
    "        'Quantity': [1,4,2]\n",
    "    },\n",
    "    {\n",
    "        'Tid': 'T5',\n",
    "        'Item': ['a', 'g'],\n",
    "        'Quantity': [1,2]\n",
    "    },\n",
    "    {\n",
    "        'Tid': 'T6',\n",
    "        'Item': ['b', 'c', 'd', 'e'],\n",
    "        'Quantity': [3,2,3,1]\n",
    "    },\n",
    "    {\n",
    "        'Tid': 'T7',\n",
    "        'Item': ['c', 'e'],\n",
    "        'Quantity': [6,4]\n",
    "    },\n",
    "    {\n",
    "        'Tid': 'T8',\n",
    "        'Item': ['e', 'f'],\n",
    "        'Quantity': [1,3]\n",
    "    }\n",
    "]\n",
    "UNIT_UTILITY = {\n",
    "    'a': 3,\n",
    "    'b': 6,\n",
    "    'c': -3,\n",
    "    'd': 12,\n",
    "    'e': -5,\n",
    "    'f': -2,\n",
    "    'g': -1\n",
    "}\n",
    "\n",
    "EPM = {\n",
    "    'min_util': 30,\n",
    "    'min_per': 1,\n",
    "    'max_per': 5,\n",
    "    'min_avg': 1,\n",
    "    'max_avg': 3\n",
    "}"
   ]
  },
  {
   "cell_type": "markdown",
   "metadata": {},
   "source": [
    "### Show global variable"
   ]
  },
  {
   "cell_type": "code",
   "execution_count": 50,
   "metadata": {},
   "outputs": [
    {
     "name": "stdout",
     "output_type": "stream",
     "text": [
      "{'Tid': 'T1', 'Item': ['a', 'b', 'c', 'd'], 'Quantity': [5, 2, 1, 2]}\n",
      "{'Tid': 'T2', 'Item': ['a', 'c', 'd', 'g'], 'Quantity': [1, 1, 1, 3]}\n",
      "{'Tid': 'T3', 'Item': ['a', 'c', 'f'], 'Quantity': [1, 1, 1]}\n",
      "{'Tid': 'T4', 'Item': ['a', 'f', 'g'], 'Quantity': [1, 4, 2]}\n",
      "{'Tid': 'T5', 'Item': ['a', 'g'], 'Quantity': [1, 2]}\n",
      "{'Tid': 'T6', 'Item': ['b', 'c', 'd', 'e'], 'Quantity': [3, 2, 3, 1]}\n",
      "{'Tid': 'T7', 'Item': ['c', 'e'], 'Quantity': [6, 4]}\n",
      "{'Tid': 'T8', 'Item': ['e', 'f'], 'Quantity': [1, 3]}\n"
     ]
    }
   ],
   "source": [
    "for i in DATASET:\n",
    "    print(i)"
   ]
  },
  {
   "cell_type": "code",
   "execution_count": 51,
   "metadata": {},
   "outputs": [
    {
     "name": "stdout",
     "output_type": "stream",
     "text": [
      "{'a': 3, 'b': 6, 'c': -3, 'd': 12, 'e': -5, 'f': -2, 'g': -1}\n"
     ]
    }
   ],
   "source": [
    "print(UNIT_UTILITY)"
   ]
  },
  {
   "cell_type": "code",
   "execution_count": 52,
   "metadata": {},
   "outputs": [
    {
     "name": "stdout",
     "output_type": "stream",
     "text": [
      "{'min_util': 30, 'min_per': 1, 'max_per': 5, 'min_avg': 1, 'max_avg': 3}\n"
     ]
    }
   ],
   "source": [
    "print(EPM)"
   ]
  },
  {
   "cell_type": "markdown",
   "metadata": {},
   "source": [
    "## Preparation Procedure"
   ]
  },
  {
   "cell_type": "markdown",
   "metadata": {},
   "source": [
    "The Transaction Weight Utility (TWU) of item \\( i \\) is given by:\n",
    "\n",
    "Def 6\n",
    "Def 4\n",
    "\\[\n",
    "{TWU}(i) = \\sum_{{X \\in T_j \\\\ T_j \\subseteq D}} P_U(T_j)\n",
    "\\]\n",
    "\n",
    "calculate maxPer(i), avgPer(i)\n",
    "Def 1, Def 2\n",
    "\n",
    "rearrange order\n",
    "Def 7\n"
   ]
  },
  {
   "cell_type": "code",
   "execution_count": 53,
   "metadata": {},
   "outputs": [],
   "source": [
    "def create_periodic_high_util_itemset(dataset: list, unit_utility: dict, epm: dict) -> list:\n",
    "    # for i in dataset:\n",
    "    #     print(i)\n",
    "    # calculate TWU of each item in dataset\n",
    "    twu_dict = dict()\n",
    "    twu_transaction_dict = dict()\n",
    "    ps_dict = dict()\n",
    "    transaction_dict = dict()\n",
    "    for i in dataset:\n",
    "        twu_transaction_dict[i['Tid']] = 0\n",
    "        for j in range(len(i['Item'])):\n",
    "            if i['Item'][j] not in twu_dict:\n",
    "                twu_dict[i['Item'][j]] = 0\n",
    "                transaction_dict[i['Item'][j]] = []\n",
    "                ps_dict[i['Item'][j]] = []\n",
    "\n",
    "            twu_transaction_dict[i['Tid']] += i['Quantity'][j] * unit_utility[i['Item'][j]] if unit_utility[i['Item'][j]] > 0 else 0\n",
    "            transaction_dict[i['Item'][j]].append(int(i['Tid'][1:]))\n",
    "\n",
    "        for j in range(len(i['Item'])):\n",
    "            twu_dict[i['Item'][j]] += twu_transaction_dict[i['Tid']]\n",
    "    \n",
    "    # print(twu_transaction_dict)\n",
    "    for i in transaction_dict.keys():\n",
    "        ps_dict[i].append(transaction_dict[i][0])\n",
    "        for j in range(1, len(transaction_dict[i])):\n",
    "            ps_dict[i].append(transaction_dict[i][j] - transaction_dict[i][j - 1])\n",
    "    \n",
    "    temp_dataset = list()\n",
    "    eucs_dict = dict()\n",
    "\n",
    "    for i in dataset:\n",
    "        temp_item_quantity = list()\n",
    "        for j in range(len(i['Item'])):\n",
    "            avg_item = sum(ps_dict[i['Item'][j]])/len(ps_dict[i['Item'][j]])\n",
    "            # print((i['Item'][j], i['Quantity'][j], unit_utility[i['Item'][j]], twu_dict[i['Item'][j]]))\n",
    "            if twu_dict[i['Item'][j]] > epm['min_util'] and max(ps_dict[i['Item'][j]]) <= epm['max_per']\\\n",
    "            and avg_item >= epm['min_avg']:\n",
    "                \n",
    "                temp_item_quantity.append((i['Item'][j], i['Quantity'][j], unit_utility[i['Item'][j]], twu_dict[i['Item'][j]]))\n",
    "\n",
    "        temp_item_quantity.sort(key=lambda x: x[3])\n",
    "        print(temp_item_quantity)\n",
    "        temp_item_quantity.sort(key=lambda x: x[2])\n",
    "        print(temp_item_quantity)\n",
    "        # print(i)\n",
    "        temp_dataset.append(\n",
    "            {\n",
    "                'Tid': i['Tid'],\n",
    "                'Item': list(map(lambda x: x[0], temp_item_quantity)),\n",
    "                'Quantity': list(map(lambda x: x[1], temp_item_quantity))\n",
    "            }\n",
    "        )\n",
    "        # print(i, end='\\n\\n')\n",
    "    \n",
    "    for i in temp_dataset:\n",
    "        for j in range(len(i['Item']) - 1):\n",
    "            if i['Item'][j] + i['Item'][j + 1] not in eucs_dict:\n",
    "                eucs_dict[i['Item'][j] + i['Item'][j + 1]] = 0\n",
    "            eucs_dict[i['Item'][j] + i['Item'][j + 1]] += twu_transaction_dict[i['Tid']]\n",
    "    \n",
    "    return temp_dataset, eucs_dict"
   ]
  },
  {
   "cell_type": "code",
   "execution_count": 54,
   "metadata": {},
   "outputs": [
    {
     "name": "stdout",
     "output_type": "stream",
     "text": [
      "[('a', 5, 3, 75), ('b', 2, 6, 105), ('d', 2, 12, 120), ('c', 1, -3, 123)]\n",
      "[('c', 1, -3, 123), ('a', 5, 3, 75), ('b', 2, 6, 105), ('d', 2, 12, 120)]\n",
      "[('a', 1, 3, 75), ('d', 1, 12, 120), ('c', 1, -3, 123)]\n",
      "[('c', 1, -3, 123), ('a', 1, 3, 75), ('d', 1, 12, 120)]\n",
      "[('a', 1, 3, 75), ('c', 1, -3, 123)]\n",
      "[('c', 1, -3, 123), ('a', 1, 3, 75)]\n",
      "[('a', 1, 3, 75)]\n",
      "[('a', 1, 3, 75)]\n",
      "[('a', 1, 3, 75)]\n",
      "[('a', 1, 3, 75)]\n",
      "[('b', 3, 6, 105), ('d', 3, 12, 120), ('c', 2, -3, 123)]\n",
      "[('c', 2, -3, 123), ('b', 3, 6, 105), ('d', 3, 12, 120)]\n",
      "[('c', 6, -3, 123)]\n",
      "[('c', 6, -3, 123)]\n",
      "[]\n",
      "[]\n"
     ]
    }
   ],
   "source": [
    "NEW_DATASET, EUCS_LIST = create_periodic_high_util_itemset(dataset=DATASET, unit_utility=UNIT_UTILITY, epm=EPM)"
   ]
  },
  {
   "cell_type": "code",
   "execution_count": 55,
   "metadata": {},
   "outputs": [
    {
     "name": "stdout",
     "output_type": "stream",
     "text": [
      "{'Tid': 'T1', 'Item': ['c', 'a', 'b', 'd'], 'Quantity': [1, 5, 2, 2]}\n",
      "{'Tid': 'T2', 'Item': ['c', 'a', 'd'], 'Quantity': [1, 1, 1]}\n",
      "{'Tid': 'T3', 'Item': ['c', 'a'], 'Quantity': [1, 1]}\n",
      "{'Tid': 'T4', 'Item': ['a'], 'Quantity': [1]}\n",
      "{'Tid': 'T5', 'Item': ['a'], 'Quantity': [1]}\n",
      "{'Tid': 'T6', 'Item': ['c', 'b', 'd'], 'Quantity': [2, 3, 3]}\n",
      "{'Tid': 'T7', 'Item': ['c'], 'Quantity': [6]}\n",
      "{'Tid': 'T8', 'Item': [], 'Quantity': []}\n"
     ]
    }
   ],
   "source": [
    "for i in NEW_DATASET:\n",
    "    print(i)"
   ]
  },
  {
   "cell_type": "code",
   "execution_count": 56,
   "metadata": {},
   "outputs": [
    {
     "name": "stdout",
     "output_type": "stream",
     "text": [
      "{'ca': 69, 'ab': 51, 'bd': 105, 'ad': 15, 'cb': 54}\n"
     ]
    }
   ],
   "source": [
    "print(EUCS_LIST)"
   ]
  },
  {
   "cell_type": "markdown",
   "metadata": {},
   "source": [
    "## Searching stage"
   ]
  },
  {
   "cell_type": "code",
   "execution_count": 57,
   "metadata": {},
   "outputs": [],
   "source": [
    "def construct(prefix_list: list, x: list, y: list) -> list:\n",
    "    pre_pointer = 0\n",
    "    x_pointer = 0\n",
    "    y_pointer = 0\n",
    "    result = list()\n",
    "\n",
    "    while x_pointer < len(x) and y_pointer < len(y):\n",
    "        if x[x_pointer][0] < y[y_pointer][0]:\n",
    "            x_pointer += 1\n",
    "        elif x[x_pointer][0] > y[y_pointer][0]:\n",
    "            y_pointer += 1\n",
    "        else:\n",
    "            if prefix_list != None:\n",
    "                while prefix_list[pre_pointer][0] < x[x_pointer][0]:\n",
    "                    pre_pointer += 1\n",
    "                result.append([pre_pointer, x[x_pointer][1] + y[y_pointer][1] - prefix_list[pre_pointer][1], min(x[x_pointer][2], y[y_pointer][2])])\n",
    "                x_pointer += 1 \n",
    "                y_pointer += 1\n",
    "                pre_pointer += 1\n",
    "            else:\n",
    "                result.append([x_pointer, x[x_pointer][1] + y[y_pointer][1], min(x[x_pointer][2], y[y_pointer][2])])\n",
    "                x_pointer += 1\n",
    "                y_pointer += 1\n",
    "    return result\n",
    "\n",
    "def utility_condition(x, minutil):\n",
    "    return sum(i[1] for i in x) >= minutil\n",
    "\n",
    "def calculate_periodic(x):\n",
    "    # print(x)\n",
    "    periodic = list()\n",
    "    keys = x\n",
    "    for i in range(len(keys) - 1):\n",
    "        periodic.append(keys[i+1][0] - keys[i][0])\n",
    "\n",
    "    return max(periodic), min(periodic), sum(periodic) / len(periodic)\n",
    "\n",
    "def periodic_condition(x, minper, maxper, minavg, maxavg):\n",
    "    max_i, min_i, avg_i = calculate_periodic(x)\n",
    "    return min_i >= minper and max_i <= maxper and avg_i >= minavg and avg_i <= maxavg\n",
    "\n",
    "def ru_condition(x, minutil):\n",
    "    return sum(i[2] for i in x) >= minutil\n",
    "\n",
    "def max_per_condition(x, maxper):\n",
    "    max_x, min_x, avg_x = calculate_periodic(x)\n",
    "    return max_x <= maxper\n",
    "\n",
    "def avg_per_condition(x, maxavg):\n",
    "    max_x, min_x, avg_x = calculate_periodic(x)\n",
    "    return avg_x <= maxavg\n",
    "\n",
    "def get_name(X, Y, eucs_list):\n",
    "    return X + Y if X + Y in eucs_list else Y + X\n",
    "\n",
    "def eucp_condition(X, Y, eucs_list, minutil):\n",
    "    items_name = get_name(X, Y, eucs_list)\n",
    "    return eucs_list[items_name] >= minutil\n",
    "\n"
   ]
  },
  {
   "cell_type": "code",
   "execution_count": 58,
   "metadata": {},
   "outputs": [],
   "source": [
    "def phm_seach(prefix : str, prefix_list: list, lists: dict) -> set:\n",
    "    result = set()\n",
    "    key_lists = list(lists.keys())\n",
    "    # print(key_lists)\n",
    "    for i in key_lists:\n",
    "        print(i)\n",
    "        if utility_condition(lists[i], EPM['min_util']) and periodic_condition(lists[i], EPM['min_per'], EPM['max_per'], EPM['min_avg'], EPM['max_avg']):\n",
    "            result.add(i)\n",
    "        print(lists[i])\n",
    "        print(EPM)\n",
    "        if ru_condition(lists[i], EPM['min_util']) and max_per_condition(lists[i], EPM['max_per']) and avg_per_condition(lists[i], EPM['max_avg']):\n",
    "            new_list = dict()\n",
    "\n",
    "            for j in key_lists[key_lists.index(i) + 1:]:\n",
    "                if eucp_condition(i[-1],j[-1], EUCS_LIST, EPM['min_util']):\n",
    "\n",
    "                    z = get_name(i[-1], j[-1], EUCS_LIST) if prefix == None else prefix + get_name(i[-1], j[-1], EUCS_LIST)\n",
    "                    \n",
    "                    z_list = construct(prefix_list, lists[i], lists[j])\n",
    "                    \n",
    "                    new_list[z] = z_list\n",
    "            result.update(phm_seach(i, lists[i], new_list))\n",
    "            \n",
    "    return result"
   ]
  },
  {
   "cell_type": "code",
   "execution_count": 59,
   "metadata": {},
   "outputs": [
    {
     "name": "stdout",
     "output_type": "stream",
     "text": [
      "{'a': 3, 'b': 6, 'c': -3, 'd': 12, 'e': -5, 'f': -2, 'g': -1}\n",
      "{'Tid': 'T1', 'Item': ['c', 'a', 'b', 'd'], 'Quantity': [1, 5, 2, 2]}\n",
      "{'Tid': 'T2', 'Item': ['c', 'a', 'd'], 'Quantity': [1, 1, 1]}\n",
      "{'Tid': 'T3', 'Item': ['c', 'a'], 'Quantity': [1, 1]}\n",
      "{'Tid': 'T4', 'Item': ['a'], 'Quantity': [1]}\n",
      "{'Tid': 'T5', 'Item': ['a'], 'Quantity': [1]}\n",
      "{'Tid': 'T6', 'Item': ['c', 'b', 'd'], 'Quantity': [2, 3, 3]}\n",
      "{'Tid': 'T7', 'Item': ['c'], 'Quantity': [6]}\n",
      "{'Tid': 'T8', 'Item': [], 'Quantity': []}\n"
     ]
    }
   ],
   "source": [
    "print(UNIT_UTILITY)\n",
    "\n",
    "for i in NEW_DATASET:\n",
    "    print(i)"
   ]
  },
  {
   "cell_type": "code",
   "execution_count": 60,
   "metadata": {},
   "outputs": [
    {
     "name": "stdout",
     "output_type": "stream",
     "text": [
      "d [[1, 24, 0], [2, 12, 0], [6, 36, 0]]\n",
      "b [[1, 12, 24], [6, 18, 36]]\n",
      "a [[1, 15, 36], [2, 3, 12], [3, 3, 0], [4, 3, 0], [5, 3, 0]]\n",
      "c [[1, -3, 51], [2, -3, 15], [3, -3, 3], [6, -6, 54], [7, -18, 0]]\n"
     ]
    }
   ],
   "source": [
    "utility_list = dict()\n",
    "for i in NEW_DATASET:\n",
    "    total = 0\n",
    "    for j in range(len(i['Item']) - 1, -1, -1):\n",
    "        \n",
    "        if i['Item'][j] not in utility_list:\n",
    "            utility_list[i['Item'][j]] = list()\n",
    "\n",
    "        utility_list[i['Item'][j]].append([int(i['Tid'][1:]), UNIT_UTILITY[i['Item'][j]]*i['Quantity'][j], total])\n",
    "\n",
    "        total += UNIT_UTILITY[i['Item'][j]]*i['Quantity'][j] if UNIT_UTILITY[i['Item'][j]] > 0 else 0\n",
    "for i in utility_list.keys():\n",
    "    print(i, utility_list[i])"
   ]
  },
  {
   "cell_type": "code",
   "execution_count": 61,
   "metadata": {},
   "outputs": [
    {
     "name": "stdout",
     "output_type": "stream",
     "text": [
      "d\n",
      "[[1, 24, 0], [2, 12, 0], [6, 36, 0]]\n",
      "{'min_util': 30, 'min_per': 1, 'max_per': 5, 'min_avg': 1, 'max_avg': 3}\n",
      "b\n",
      "[[1, 12, 24], [6, 18, 36]]\n",
      "{'min_util': 30, 'min_per': 1, 'max_per': 5, 'min_avg': 1, 'max_avg': 3}\n",
      "a\n",
      "[[1, 15, 36], [2, 3, 12], [3, 3, 0], [4, 3, 0], [5, 3, 0]]\n",
      "{'min_util': 30, 'min_per': 1, 'max_per': 5, 'min_avg': 1, 'max_avg': 3}\n",
      "ca\n",
      "[[0, 12, 36], [1, 0, 12], [2, 0, 0]]\n",
      "{'min_util': 30, 'min_per': 1, 'max_per': 5, 'min_avg': 1, 'max_avg': 3}\n",
      "c\n",
      "[[1, -3, 51], [2, -3, 15], [3, -3, 3], [6, -6, 54], [7, -18, 0]]\n",
      "{'min_util': 30, 'min_per': 1, 'max_per': 5, 'min_avg': 1, 'max_avg': 3}\n",
      "{'d'}\n"
     ]
    }
   ],
   "source": [
    "result = phm_seach(None, None, utility_list)\n",
    "print(result)"
   ]
  },
  {
   "cell_type": "code",
   "execution_count": 62,
   "metadata": {},
   "outputs": [
    {
     "ename": "SyntaxError",
     "evalue": "invalid syntax (2029214967.py, line 14)",
     "output_type": "error",
     "traceback": [
      "\u001b[1;36m  Cell \u001b[1;32mIn[62], line 14\u001b[1;36m\u001b[0m\n\u001b[1;33m    z_list = construct(,i,)\u001b[0m\n\u001b[1;37m                       ^\u001b[0m\n\u001b[1;31mSyntaxError\u001b[0m\u001b[1;31m:\u001b[0m invalid syntax\n"
     ]
    }
   ],
   "source": [
    "def search(prefix : str, prefix_list: list, lists: list, item_utility: list) -> set:\n",
    "    result = set()\n",
    "    for i in lists:\n",
    "        if utility_condition(i) and periodic_condition(i):\n",
    "            result.add(i)\n",
    "        elif ru_condition(i) and max_per_condition(i) and avg_per_condition(i):\n",
    "            new_list = list()\n",
    "\n",
    "            for j in lists[lists.index(i) + 1:]:\n",
    "                if eucp_conditon(i,j):\n",
    "                    compute_du(j,i)\n",
    "                    z = i + j # wrong fix it\n",
    "                    if isinstance(j, m_list):\n",
    "                        z_list = construct(,i,)\n"
   ]
  }
 ],
 "metadata": {
  "kernelspec": {
   "display_name": "Python 3",
   "language": "python",
   "name": "python3"
  },
  "language_info": {
   "codemirror_mode": {
    "name": "ipython",
    "version": 3
   },
   "file_extension": ".py",
   "mimetype": "text/x-python",
   "name": "python",
   "nbconvert_exporter": "python",
   "pygments_lexer": "ipython3",
   "version": "3.12.4"
  }
 },
 "nbformat": 4,
 "nbformat_minor": 2
}
