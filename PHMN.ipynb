{
 "cells": [
  {
   "cell_type": "markdown",
   "metadata": {},
   "source": [
    "## Create CONSTANTS"
   ]
  },
  {
   "cell_type": "code",
   "execution_count": 28,
   "metadata": {},
   "outputs": [],
   "source": [
    "DATASET = [\n",
    "    {\n",
    "        'Tid': 'T1',\n",
    "        'Item': ['a', 'b', 'c', 'd'],\n",
    "        'Quantity': [5,2,1,2]\n",
    "    },\n",
    "    {\n",
    "        'Tid': 'T2',\n",
    "        'Item': ['a', 'c', 'd', 'g'],\n",
    "        'Quantity': [1,1,1,3]\n",
    "    },\n",
    "    {\n",
    "        'Tid': 'T3',\n",
    "        'Item': ['a', 'c', 'f'],\n",
    "        'Quantity': [1,1,1]\n",
    "    },\n",
    "    {\n",
    "        'Tid': 'T4',\n",
    "        'Item': ['a', 'f', 'g'],\n",
    "        'Quantity': [1,4,2]\n",
    "    },\n",
    "    {\n",
    "        'Tid': 'T5',\n",
    "        'Item': ['a', 'g'],\n",
    "        'Quantity': [1,2]\n",
    "    },\n",
    "    {\n",
    "        'Tid': 'T6',\n",
    "        'Item': ['b', 'c', 'd', 'e'],\n",
    "        'Quantity': [3,2,3,1]\n",
    "    },\n",
    "    {\n",
    "        'Tid': 'T7',\n",
    "        'Item': ['c', 'e'],\n",
    "        'Quantity': [6,4]\n",
    "    },\n",
    "    {\n",
    "        'Tid': 'T8',\n",
    "        'Item': ['e', 'f'],\n",
    "        'Quantity': [1,3]\n",
    "    }\n",
    "]\n",
    "UNIT_UTILITY = {\n",
    "    'a': 3,\n",
    "    'b': 6,\n",
    "    'c': -3,\n",
    "    'd': 12,\n",
    "    'e': -5,\n",
    "    'f': -2,\n",
    "    'g': -1\n",
    "}\n",
    "\n",
    "EPM = {\n",
    "    'min_util': 30,\n",
    "    'min_per': 1,\n",
    "    'max_per': 5,\n",
    "    'min_avg': 1,\n",
    "    'max_avg': 3\n",
    "}"
   ]
  },
  {
   "cell_type": "markdown",
   "metadata": {},
   "source": [
    "### Show global variable"
   ]
  },
  {
   "cell_type": "code",
   "execution_count": 31,
   "metadata": {},
   "outputs": [
    {
     "name": "stdout",
     "output_type": "stream",
     "text": [
      "{'Tid': 'T1', 'Item': ['a', 'b', 'c', 'd'], 'Quantity': [5, 2, 1, 2]}\n",
      "{'a': 3, 'b': 6, 'c': -3, 'd': 12, 'e': -5, 'f': -2, 'g': -1}\n"
     ]
    }
   ],
   "source": [
    "print(DATASET[0])\n",
    "print(UNIT_UTILITY)"
   ]
  },
  {
   "cell_type": "code",
   "execution_count": 32,
   "metadata": {},
   "outputs": [
    {
     "name": "stdout",
     "output_type": "stream",
     "text": [
      "{'min_util': 30, 'min_per': 1, 'max_per': 5, 'min_avg': 1, 'max_avg': 3}\n"
     ]
    }
   ],
   "source": [
    "print(EPM)"
   ]
  },
  {
   "cell_type": "markdown",
   "metadata": {},
   "source": [
    "## Preparation Procedure"
   ]
  },
  {
   "cell_type": "markdown",
   "metadata": {},
   "source": [
    "The Transaction Weight Utility (TWU) of item \\( i \\) is given by:\n",
    "\n",
    "Def 6\n",
    "Def 4\n",
    "\\[\n",
    "{TWU}(i) = \\sum_{{X \\in T_j \\\\ T_j \\subseteq D}} P_U(T_j)\n",
    "\\]\n",
    "\n",
    "calculate maxPer(i), avgPer(i)\n",
    "Def 1, Def 2\n",
    "\n",
    "rearrange order\n",
    "Def 7\n"
   ]
  },
  {
   "cell_type": "code",
   "execution_count": 37,
   "metadata": {},
   "outputs": [],
   "source": [
    "def create_periodic_high_util_itemset(dataset: list, unit_utility: dict, epm: dict) -> list:\n",
    "    # calculate TWU of each item in dataset\n",
    "    twu_dict = dict()\n",
    "    ps_dict = dict()\n",
    "    transaction_dict = dict()\n",
    "    for i in dataset:\n",
    "        for j in range(len(i['Item'])):\n",
    "            if i['Item'][j] not in twu_dict:\n",
    "                twu_dict[i['Item'][j]] = 0\n",
    "                transaction_dict[i['Item'][j]] = []\n",
    "                ps_dict[i['Item'][j]] = []\n",
    "            twu_dict[i['Item'][j]] += i['Quantity'][j] * unit_utility[i['Item'][j]] if unit_utility[i['Item'][j]] > 0 else 0\n",
    "            transaction_dict[i['Item'][j]].append(int(i['Tid'][1:]))\n",
    "    \n",
    "    for i in transaction_dict.keys():\n",
    "        for j in range(1, len(transaction_dict[i])):\n",
    "            ps_dict[i].append(transaction_dict[i][j] - transaction_dict[i][j - 1])\n",
    "    \n",
    "    temp_dataset = dataset\n",
    "\n",
    "    for i in temp_dataset:\n",
    "        temp_item_quantity = list()\n",
    "        for j in range(len(i['Item'])):\n",
    "            avg_item = sum(ps_dict[i['Item'][j]])/len(ps_dict[i['Item'][j]])\n",
    "            if twu_dict[i['Item'][j]] > epm['min_util'] and max(ps_dict[i['Item'][j]]) <= epm['max_per']\\\n",
    "            and avg_item >= epm['min_avg'] and avg_item <= epm['max_avg']:\n",
    "                \n",
    "                temp_item_quantity.append((i['Item'][j], i['Quantity'][j], unit_utility[i['Item'][j]], twu_dict[i['Item'][j]]))\n",
    "\n",
    "        temp_item_quantity.sort(key=lambda x: x[3])\n",
    "        temp_item_quantity.sort(key=lambda x: x[2])\n",
    "        i['Item'] = list(map(temp_item_quantity, lambda x: x[0]))\n",
    "        i['Quantity'] = list(map(temp_item_quantity, lambda x: x[1]))\n",
    "\n"
   ]
  },
  {
   "cell_type": "code",
   "execution_count": 38,
   "metadata": {},
   "outputs": [
    {
     "name": "stdout",
     "output_type": "stream",
     "text": [
      "27\n",
      "30\n",
      "0\n",
      "72\n",
      "0\n",
      "0\n",
      "0\n",
      "[1, 2, 3, 4, 5]\n",
      "[1, 6]\n",
      "[1, 2, 3, 6, 7]\n",
      "[1, 2, 6]\n",
      "[2, 4, 5]\n",
      "[3, 4, 8]\n",
      "[6, 7, 8]\n"
     ]
    }
   ],
   "source": [
    "create_periodic_high_util_itemset(dataset=DATASET, unit_utility=UNIT_UTILITY, epm=EPM)"
   ]
  }
 ],
 "metadata": {
  "kernelspec": {
   "display_name": "Python 3",
   "language": "python",
   "name": "python3"
  },
  "language_info": {
   "codemirror_mode": {
    "name": "ipython",
    "version": 3
   },
   "file_extension": ".py",
   "mimetype": "text/x-python",
   "name": "python",
   "nbconvert_exporter": "python",
   "pygments_lexer": "ipython3",
   "version": "3.12.4"
  }
 },
 "nbformat": 4,
 "nbformat_minor": 2
}
