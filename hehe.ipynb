{
 "cells": [
  {
   "cell_type": "code",
   "execution_count": 45,
   "metadata": {},
   "outputs": [],
   "source": [
    "DATASET = [\n",
    "    {\n",
    "        'Tid': '100',\n",
    "        'Item': [0.7, -1, 0.1, -1]\n",
    "    },\n",
    "    {\n",
    "        'Tid': '200',\n",
    "        'Item': [0.4, 0.4, 0.5, 0.9]\n",
    "    },\n",
    "    {\n",
    "        'Tid': '300',\n",
    "        'Item': [-1, 0.6, 0.3, 0.2]\n",
    "    },\n",
    "    {\n",
    "        'Tid': '400',\n",
    "        'Item': [-1, -1, 0.4, 0.4]\n",
    "    },\n",
    "    {\n",
    "        'Tid': '500',\n",
    "        'Item': [1, 0.7, -1, -1]\n",
    "    },\n",
    "    {\n",
    "        'Tid': '600',\n",
    "        'Item': [-1, -1, 0.2, 0.8]\n",
    "    },\n",
    "    {\n",
    "        'Tid': '700',\n",
    "        'Item': [0.9, 0.9, 0.9, -1]\n",
    "    }\n",
    "]\n",
    "ITEMSET = [\"A\", \"B\", \"C\", \"D\"]\n",
    "K = 4\n",
    "minSup = 0\n",
    "DATASET_STRUCTURED = {}\n",
    "ITEMSET_STRUCTURED = {}\n",
    "for i in (DATASET):\n",
    "    DATASET_STRUCTURED[i['Tid']] = i['Item']\n",
    "for i in range (len(ITEMSET)):\n",
    "    ITEMSET_STRUCTURED[ITEMSET[i]] = i"
   ]
  },
  {
   "cell_type": "code",
   "execution_count": 46,
   "metadata": {},
   "outputs": [],
   "source": [
    "import sys"
   ]
  },
  {
   "cell_type": "code",
   "execution_count": 4,
   "metadata": {},
   "outputs": [
    {
     "data": {
      "text/plain": [
       "{'100': [0.7, -1, 0.1, -1],\n",
       " '200': [0.4, 0.4, 0.5, 0.9],\n",
       " '300': [-1, 0.6, 0.3, 0.2],\n",
       " '400': [-1, -1, 0.4, 0.4],\n",
       " '500': [1, 0.7, -1, -1],\n",
       " '600': [-1, -1, 0.2, 0.8],\n",
       " '700': [0.9, 0.9, 0.9, -1]}"
      ]
     },
     "execution_count": 4,
     "metadata": {},
     "output_type": "execute_result"
    }
   ],
   "source": [
    "DATASET_STRUCTURED"
   ]
  },
  {
   "cell_type": "code",
   "execution_count": 5,
   "metadata": {},
   "outputs": [
    {
     "data": {
      "text/plain": [
       "{'A': 0, 'B': 1, 'C': 2, 'D': 3}"
      ]
     },
     "execution_count": 5,
     "metadata": {},
     "output_type": "execute_result"
    }
   ],
   "source": [
    "ITEMSET_STRUCTURED"
   ]
  },
  {
   "cell_type": "code",
   "execution_count": 34,
   "metadata": {},
   "outputs": [],
   "source": [
    "def EXISTENIAL_PROBALITITY_X_IN_T(X: list, T):\n",
    "    P = 1\n",
    "    for i in (X):\n",
    "        if DATASET_STRUCTURED[T][ITEMSET_STRUCTURED[i]] == -1:\n",
    "            return 0\n",
    "        P *= DATASET_STRUCTURED[T][ITEMSET_STRUCTURED[i]]\n",
    "    return P"
   ]
  },
  {
   "cell_type": "code",
   "execution_count": 15,
   "metadata": {},
   "outputs": [
    {
     "data": {
      "text/plain": [
       "0.06999999999999999"
      ]
     },
     "execution_count": 15,
     "metadata": {},
     "output_type": "execute_result"
    }
   ],
   "source": [
    "EXISTENIAL_PROBALITITY_X_IN_T([\"A\",\"C\"], \"100\")"
   ]
  },
  {
   "cell_type": "code",
   "execution_count": 16,
   "metadata": {},
   "outputs": [
    {
     "data": {
      "text/plain": [
       "0.7290000000000001"
      ]
     },
     "execution_count": 16,
     "metadata": {},
     "output_type": "execute_result"
    }
   ],
   "source": [
    "EXISTENIAL_PROBALITITY_X_IN_T([\"A\", \"B\", \"C\"], \"700\")"
   ]
  },
  {
   "cell_type": "code",
   "execution_count": 37,
   "metadata": {},
   "outputs": [],
   "source": [
    "def EXPECTED_SUPPORT_X_IN_UDB(X:list):\n",
    "    expSup = 0\n",
    "    for T in (DATASET_STRUCTURED.keys()):\n",
    "        expSup += EXISTENIAL_PROBALITITY_X_IN_T(X, T)\n",
    "    return expSup\n",
    "        "
   ]
  },
  {
   "cell_type": "code",
   "execution_count": 38,
   "metadata": {},
   "outputs": [
    {
     "data": {
      "text/plain": [
       "1.67"
      ]
     },
     "execution_count": 38,
     "metadata": {},
     "output_type": "execute_result"
    }
   ],
   "source": [
    "EXPECTED_SUPPORT_X_IN_UDB([\"A\", \"B\"])"
   ]
  },
  {
   "cell_type": "code",
   "execution_count": null,
   "metadata": {},
   "outputs": [],
   "source": [
    "def generateUpList():\n",
    "    UPLIST = {}\n",
    "    minSub = sys.float_info\n",
    "    for item in (ITEMSET_STRUCTURED.keys()):\n",
    "        UPLIST[item] = {}\n",
    "        for T in (DATASET_STRUCTURED.keys()):\n",
    "            if DATASET_STRUCTURED[T][ITEMSET_STRUCTURED[item]] != -1:\n",
    "                UPLIST[item][T] = DATASET_STRUCTURED[T][ITEMSET_STRUCTURED[item]]\n",
    "    return UPLIST"
   ]
  },
  {
   "cell_type": "code",
   "execution_count": 43,
   "metadata": {},
   "outputs": [
    {
     "data": {
      "text/plain": [
       "{'A': {'100': 0.7, '200': 0.4, '500': 1, '700': 0.9},\n",
       " 'B': {'200': 0.4, '300': 0.6, '500': 0.7, '700': 0.9},\n",
       " 'C': {'100': 0.1, '200': 0.5, '300': 0.3, '400': 0.4, '600': 0.2, '700': 0.9},\n",
       " 'D': {'200': 0.9, '300': 0.2, '400': 0.4, '600': 0.8}}"
      ]
     },
     "execution_count": 43,
     "metadata": {},
     "output_type": "execute_result"
    }
   ],
   "source": [
    "generateUpList()\n"
   ]
  }
 ],
 "metadata": {
  "kernelspec": {
   "display_name": "pipi12",
   "language": "python",
   "name": "python3"
  },
  "language_info": {
   "codemirror_mode": {
    "name": "ipython",
    "version": 3
   },
   "file_extension": ".py",
   "mimetype": "text/x-python",
   "name": "python",
   "nbconvert_exporter": "python",
   "pygments_lexer": "ipython3",
   "version": "3.12.7"
  }
 },
 "nbformat": 4,
 "nbformat_minor": 2
}
