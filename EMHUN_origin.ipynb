{
 "cells": [
  {
   "cell_type": "markdown",
   "metadata": {},
   "source": [
    "# EMHUN Algorithm Implementation\n",
    "The implementation of the EMHUN algorithm to mine high-utility itemsets from data with unstable profits."
   ]
  },
  {
   "cell_type": "code",
   "execution_count": 1,
   "metadata": {},
   "outputs": [],
   "source": [
    "import numpy as np\n",
    "import pandas as pd"
   ]
  },
  {
   "cell_type": "markdown",
   "metadata": {},
   "source": [
    "## Utility Functions\n",
    "These functions assist in calculating utilities, sorting items, and preparing the data for mining."
   ]
  },
  {
   "cell_type": "code",
   "execution_count": 4,
   "metadata": {},
   "outputs": [],
   "source": [
    "def calculate_utility(profits, quantities):\n",
    "    \"\"\"\n",
    "    Calculate utility based on profit values and quantities.\n",
    "    \"\"\"\n",
    "    return np.multiply(profits, quantities)\n",
    "\n",
    "def calculate_rtu(transaction):\n",
    "    \"\"\"\n",
    "    Calculate RTU (Redefined Transaction Utility).\n",
    "    Only consider items with positive utility values.\n",
    "    \"\"\"\n",
    "    return np.sum([u for u in transaction.values() if u > 0])\n",
    "\n",
    "def sort_items(item_list, utility_types, rtwus):\n",
    "    \"\"\"\n",
    "    Sort items based on type and RTWU values.\n",
    "    \"\"\"\n",
    "    positive_items = sorted([i for i, t in zip(item_list, utility_types) if t == 'positive'], key=lambda x: -rtwus[x])\n",
    "    hybrid_items = sorted([i for i, t in zip(item_list, utility_types) if t == 'hybrid'], key=lambda x: -rtwus[x])\n",
    "    negative_items = sorted([i for i, t in zip(item_list, utility_types) if t == 'negative'], key=lambda x: -rtwus[x])\n",
    "    return positive_items + hybrid_items + negative_items\n",
    "\n",
    "def calculate_rtwus(database, items):\n",
    "    \"\"\"\n",
    "    Calculate RTWU (Redefined Transaction Weight Utility) for items.\n",
    "    \"\"\"\n",
    "    rtwus = {}\n",
    "    for item in items:\n",
    "        rtwus[item] = sum([transaction.get(item, 0) for transaction in database if transaction.get(item, 0) > 0])\n",
    "    return rtwus"
   ]
  },
  {
   "cell_type": "markdown",
   "metadata": {},
   "source": [
    "## EMHUN Algorithm\n",
    "The main algorithm to mine high-utility itemsets."
   ]
  },
  {
   "cell_type": "code",
   "execution_count": 5,
   "metadata": {},
   "outputs": [],
   "source": [
    "def emhun_algorithm(database, min_utility):\n",
    "    \"\"\"\n",
    "    EMHUN - Mine high-utility itemsets from data with unstable profits.\n",
    "\n",
    "    Parameters:\n",
    "        database: list of transactions (each transaction is a dictionary of utilities).\n",
    "        min_utility: minimum utility threshold.\n",
    "\n",
    "    Returns:\n",
    "        high_utility_itemsets: list of itemsets with utility >= min_utility.\n",
    "    \"\"\"\n",
    "    # Item Classification\n",
    "    positive_items = []\n",
    "    hybrid_items = []\n",
    "    negative_items = []\n",
    "\n",
    "    for transaction in database:\n",
    "        for item, utility in transaction.items():\n",
    "            if utility > 0 and item not in positive_items:\n",
    "                positive_items.append(item)\n",
    "            elif utility < 0 and item not in negative_items:\n",
    "                negative_items.append(item)\n",
    "            elif item not in hybrid_items:\n",
    "                hybrid_items.append(item)\n",
    "\n",
    "    # Calculate RTWU\n",
    "    all_items = positive_items + hybrid_items + negative_items\n",
    "    rtwus = calculate_rtwus(database, all_items)\n",
    "\n",
    "    # SSort items by RTWU\n",
    "    sorted_items = sort_items(all_items, [\"positive\"] * len(positive_items) + [\"hybrid\"] * len(hybrid_items) + [\"negative\"] * len(negative_items), rtwus)             \n",
    "\n",
    "    # Identify High-Utility Itemsets\n",
    "    high_utility_itemsets = []\n",
    "    for item in sorted_items:\n",
    "        total_utility = sum([transaction.get(item, 0) for transaction in database])\n",
    "        if total_utility >= min_utility:\n",
    "            high_utility_itemsets.append((item, total_utility))\n",
    "\n",
    "    return high_utility_itemsets"
   ]
  },
  {
   "cell_type": "markdown",
   "metadata": {},
   "source": [
    "## Example Usage\n",
    "Testing the algorithm with a sample database."
   ]
  },
  {
   "cell_type": "code",
   "execution_count": 6,
   "metadata": {},
   "outputs": [
    {
     "name": "stdout",
     "output_type": "stream",
     "text": [
      "High-Utility Itemsets: [('b', 2), ('a', 3), ('a', 3), ('b', 2)]\n"
     ]
    }
   ],
   "source": [
    "database = [\n",
    "    {\"a\": 2, \"b\": -3, \"c\": 1},\n",
    "    {\"a\": 1, \"b\": 5, \"c\": -1},\n",
    "]\n",
    "\n",
    "min_utility = 2\n",
    "result = emhun_algorithm(database, min_utility)\n",
    "\n",
    "# Output Results\n",
    "print(\"High-Utility Itemsets:\", result)"
   ]
  }
 ],
 "metadata": {
  "kernelspec": {
   "display_name": "recommend_sys",
   "language": "python",
   "name": "python3"
  },
  "language_info": {
   "codemirror_mode": {
    "name": "ipython",
    "version": 3
   },
   "file_extension": ".py",
   "mimetype": "text/x-python",
   "name": "python",
   "nbconvert_exporter": "python",
   "pygments_lexer": "ipython3",
   "version": "3.12.3"
  }
 },
 "nbformat": 4,
 "nbformat_minor": 5
}
