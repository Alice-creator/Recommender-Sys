{
  "cells": [
    {
      "cell_type": "markdown",
      "metadata": {
        "id": "DTTN-psw6pI7"
      },
      "source": [
        "## Create CONSTANTS"
      ]
    },
    {
      "cell_type": "code",
      "execution_count": 70,
      "metadata": {
        "id": "TWspgDdB6pI8"
      },
      "outputs": [],
      "source": [
        "DATASET = [\n",
        "    {\n",
        "        'Tid': 'T1',\n",
        "        'Item': ['a', 'b', 'c', 'd'],\n",
        "        'Quantity': [5,2,1,2]\n",
        "    },\n",
        "    {\n",
        "        'Tid': 'T2',\n",
        "        'Item': ['a', 'c', 'd', 'g'],\n",
        "        'Quantity': [1,1,1,3]\n",
        "    },\n",
        "    {\n",
        "        'Tid': 'T3',\n",
        "        'Item': ['a', 'c', 'f'],\n",
        "        'Quantity': [1,1,1]\n",
        "    },\n",
        "    {\n",
        "        'Tid': 'T4',\n",
        "        'Item': ['a', 'f', 'g'],\n",
        "        'Quantity': [1,4,2]\n",
        "    },\n",
        "    {\n",
        "        'Tid': 'T5',\n",
        "        'Item': ['a', 'g'],\n",
        "        'Quantity': [1,2]\n",
        "    },\n",
        "    {\n",
        "        'Tid': 'T6',\n",
        "        'Item': ['b', 'c', 'd', 'e'],\n",
        "        'Quantity': [3,2,3,1]\n",
        "    },\n",
        "    {\n",
        "        'Tid': 'T7',\n",
        "        'Item': ['c', 'e'],\n",
        "        'Quantity': [6,4]\n",
        "    },\n",
        "    {\n",
        "        'Tid': 'T8',\n",
        "        'Item': ['e', 'f'],\n",
        "        'Quantity': [1,3]\n",
        "    }\n",
        "]\n",
        "UNIT_UTILITY = {\n",
        "    'a': 3,\n",
        "    'b': 6,\n",
        "    'c': -3,\n",
        "    'd': 12,\n",
        "    'e': -5,\n",
        "    'f': -2,\n",
        "    'g': -1\n",
        "}\n",
        "\n",
        "EPM = {\n",
        "    'min_util': 25,\n",
        "    'min_per': 1,\n",
        "    'max_per': 6,\n",
        "    'min_avg': 1,\n",
        "    'max_avg': 5\n",
        "}"
      ]
    },
    {
      "cell_type": "markdown",
      "metadata": {
        "id": "KNm3EBQj6pI9"
      },
      "source": [
        "### Show global variable"
      ]
    },
    {
      "cell_type": "code",
      "execution_count": 71,
      "metadata": {
        "colab": {
          "base_uri": "https://localhost:8080/"
        },
        "id": "Im5-Wn296pI9",
        "outputId": "7836fd07-eb63-4242-cefe-bc32958b7236"
      },
      "outputs": [
        {
          "name": "stdout",
          "output_type": "stream",
          "text": [
            "{'Tid': 'T1', 'Item': ['a', 'b', 'c', 'd'], 'Quantity': [5, 2, 1, 2]}\n",
            "{'Tid': 'T2', 'Item': ['a', 'c', 'd', 'g'], 'Quantity': [1, 1, 1, 3]}\n",
            "{'Tid': 'T3', 'Item': ['a', 'c', 'f'], 'Quantity': [1, 1, 1]}\n",
            "{'Tid': 'T4', 'Item': ['a', 'f', 'g'], 'Quantity': [1, 4, 2]}\n",
            "{'Tid': 'T5', 'Item': ['a', 'g'], 'Quantity': [1, 2]}\n",
            "{'Tid': 'T6', 'Item': ['b', 'c', 'd', 'e'], 'Quantity': [3, 2, 3, 1]}\n",
            "{'Tid': 'T7', 'Item': ['c', 'e'], 'Quantity': [6, 4]}\n",
            "{'Tid': 'T8', 'Item': ['e', 'f'], 'Quantity': [1, 3]}\n"
          ]
        }
      ],
      "source": [
        "for i in DATASET:\n",
        "    print(i)"
      ]
    },
    {
      "cell_type": "code",
      "execution_count": 72,
      "metadata": {
        "colab": {
          "base_uri": "https://localhost:8080/"
        },
        "id": "QBVgH2E46pI9",
        "outputId": "48fb47ea-a30c-4b52-8934-6f2953ebca57"
      },
      "outputs": [
        {
          "name": "stdout",
          "output_type": "stream",
          "text": [
            "{'a': 3, 'b': 6, 'c': -3, 'd': 12, 'e': -5, 'f': -2, 'g': -1}\n"
          ]
        }
      ],
      "source": [
        "print(UNIT_UTILITY)"
      ]
    },
    {
      "cell_type": "code",
      "execution_count": 73,
      "metadata": {
        "colab": {
          "base_uri": "https://localhost:8080/"
        },
        "id": "SasPOGsf6pI9",
        "outputId": "4e0d783a-0dd8-4499-95a0-0d4e015435ff"
      },
      "outputs": [
        {
          "name": "stdout",
          "output_type": "stream",
          "text": [
            "{'min_util': 25, 'min_per': 1, 'max_per': 6, 'min_avg': 1, 'max_avg': 5}\n"
          ]
        }
      ],
      "source": [
        "print(EPM)"
      ]
    },
    {
      "cell_type": "markdown",
      "metadata": {
        "id": "Bi9exLsE6pI-"
      },
      "source": [
        "## Preparation Procedure"
      ]
    },
    {
      "cell_type": "markdown",
      "metadata": {
        "id": "ylhO4WSS6pI-"
      },
      "source": [
        "The Transaction Weight Utility (TWU) of item \\( i \\) is given by:\n",
        "\n",
        "Def 6\n",
        "Def 4\n",
        "\\[\n",
        "{TWU}(i) = \\sum_{{X \\in T_j \\\\ T_j \\subseteq D}} P_U(T_j)\n",
        "\\]\n",
        "\n",
        "calculate maxPer(i), avgPer(i)\n",
        "Def 1, Def 2\n",
        "\n",
        "rearrange order\n",
        "Def 7\n"
      ]
    },
    {
      "cell_type": "code",
      "execution_count": 74,
      "metadata": {
        "id": "AYXfoyL46pI-"
      },
      "outputs": [],
      "source": [
        "def create_periodic_high_util_itemset(dataset: list, unit_utility: dict, epm: dict) -> list:\n",
        "    # for i in dataset:\n",
        "    #     print(i)\n",
        "    # calculate TWU of each item in dataset\n",
        "    twu_dict = dict()\n",
        "    twu_transaction_dict = dict()\n",
        "    ps_dict = dict()\n",
        "    transaction_dict = dict()\n",
        "    for i in dataset:\n",
        "        twu_transaction_dict[i['Tid']] = 0\n",
        "        for j in range(len(i['Item'])):\n",
        "            if i['Item'][j] not in twu_dict:\n",
        "                twu_dict[i['Item'][j]] = 0\n",
        "                transaction_dict[i['Item'][j]] = []\n",
        "                ps_dict[i['Item'][j]] = []\n",
        "\n",
        "            twu_transaction_dict[i['Tid']] += i['Quantity'][j] * unit_utility[i['Item'][j]] if unit_utility[i['Item'][j]] > 0 else 0\n",
        "            transaction_dict[i['Item'][j]].append(int(i['Tid'][1:]))\n",
        "\n",
        "        for j in range(len(i['Item'])):\n",
        "            twu_dict[i['Item'][j]] += twu_transaction_dict[i['Tid']]\n",
        "\n",
        "    # print(twu_transaction_dict)\n",
        "    for i in transaction_dict.keys():\n",
        "        ps_dict[i].append(transaction_dict[i][0])\n",
        "        for j in range(1, len(transaction_dict[i])):\n",
        "            ps_dict[i].append(transaction_dict[i][j] - transaction_dict[i][j - 1])\n",
        "\n",
        "    temp_dataset = list()\n",
        "    eucs_dict = dict()\n",
        "    order_set = set()\n",
        "\n",
        "    for i in dataset:\n",
        "        temp_item_quantity = list()\n",
        "        for j in range(len(i['Item'])):\n",
        "            avg_item = sum(ps_dict[i['Item'][j]])/len(ps_dict[i['Item'][j]])\n",
        "            # print((i['Item'][j], i['Quantity'][j], unit_utility[i['Item'][j]], twu_dict[i['Item'][j]]))\n",
        "            if twu_dict[i['Item'][j]] > epm['min_util'] and max(ps_dict[i['Item'][j]]) <= epm['max_per']\\\n",
        "            and avg_item >= epm['min_avg']:\n",
        "\n",
        "                temp_item_quantity.append((i['Item'][j], i['Quantity'][j], unit_utility[i['Item'][j]], twu_dict[i['Item'][j]]))\n",
        "                order_set.add((i['Item'][j], unit_utility[i['Item'][j]], twu_dict[i['Item'][j]]))\n",
        "\n",
        "        temp_item_quantity.sort(key=lambda x: x[3])\n",
        "        print(temp_item_quantity)\n",
        "        temp_item_quantity.sort(key=lambda x: x[2])\n",
        "        print(temp_item_quantity)\n",
        "        # print(i)\n",
        "        temp_dataset.append(\n",
        "            {\n",
        "                'Tid': i['Tid'],\n",
        "                'Item': list(map(lambda x: x[0], temp_item_quantity)),\n",
        "                'Quantity': list(map(lambda x: x[1], temp_item_quantity))\n",
        "            }\n",
        "        )\n",
        "        # print(i, end='\\n\\n')\n",
        "    order_list = list(order_set)\n",
        "    order_list.sort(key=lambda x:x[2])\n",
        "    order_list.sort(key=lambda x:x[1])\n",
        "    order_list = [i[0] for i in order_list]\n",
        "\n",
        "    for i in temp_dataset:\n",
        "        for j in range(len(i['Item']) - 1):\n",
        "          for k in range(j + 1, len(i['Item'])):\n",
        "            if i['Item'][j] + i['Item'][k] not in eucs_dict:\n",
        "                eucs_dict[i['Item'][j] + i['Item'][k]] = 0\n",
        "            eucs_dict[i['Item'][j] + i['Item'][k]] += twu_transaction_dict[i['Tid']]\n",
        "\n",
        "    return temp_dataset, eucs_dict, order_list"
      ]
    },
    {
      "cell_type": "code",
      "execution_count": 75,
      "metadata": {
        "colab": {
          "base_uri": "https://localhost:8080/"
        },
        "id": "OP9Lst_Q6pI-",
        "outputId": "c7170d41-7841-49f6-f006-4669daf0cf5e"
      },
      "outputs": [
        {
          "name": "stdout",
          "output_type": "stream",
          "text": [
            "[('a', 5, 3, 75), ('b', 2, 6, 105), ('d', 2, 12, 120), ('c', 1, -3, 123)]\n",
            "[('c', 1, -3, 123), ('a', 5, 3, 75), ('b', 2, 6, 105), ('d', 2, 12, 120)]\n",
            "[('a', 1, 3, 75), ('d', 1, 12, 120), ('c', 1, -3, 123)]\n",
            "[('c', 1, -3, 123), ('a', 1, 3, 75), ('d', 1, 12, 120)]\n",
            "[('a', 1, 3, 75), ('c', 1, -3, 123)]\n",
            "[('c', 1, -3, 123), ('a', 1, 3, 75)]\n",
            "[('a', 1, 3, 75)]\n",
            "[('a', 1, 3, 75)]\n",
            "[('a', 1, 3, 75)]\n",
            "[('a', 1, 3, 75)]\n",
            "[('e', 1, -5, 54), ('b', 3, 6, 105), ('d', 3, 12, 120), ('c', 2, -3, 123)]\n",
            "[('e', 1, -5, 54), ('c', 2, -3, 123), ('b', 3, 6, 105), ('d', 3, 12, 120)]\n",
            "[('e', 4, -5, 54), ('c', 6, -3, 123)]\n",
            "[('e', 4, -5, 54), ('c', 6, -3, 123)]\n",
            "[('e', 1, -5, 54)]\n",
            "[('e', 1, -5, 54)]\n"
          ]
        }
      ],
      "source": [
        "NEW_DATASET, EUCS_LIST, ORDER_LIST = create_periodic_high_util_itemset(dataset=DATASET, unit_utility=UNIT_UTILITY, epm=EPM)"
      ]
    },
    {
      "cell_type": "code",
      "execution_count": 76,
      "metadata": {
        "colab": {
          "base_uri": "https://localhost:8080/"
        },
        "id": "OVv6RJmk6pI-",
        "outputId": "029e49f8-8406-449d-bb8d-ff9d9966c55c"
      },
      "outputs": [
        {
          "name": "stdout",
          "output_type": "stream",
          "text": [
            "{'Tid': 'T1', 'Item': ['c', 'a', 'b', 'd'], 'Quantity': [1, 5, 2, 2]}\n",
            "{'Tid': 'T2', 'Item': ['c', 'a', 'd'], 'Quantity': [1, 1, 1]}\n",
            "{'Tid': 'T3', 'Item': ['c', 'a'], 'Quantity': [1, 1]}\n",
            "{'Tid': 'T4', 'Item': ['a'], 'Quantity': [1]}\n",
            "{'Tid': 'T5', 'Item': ['a'], 'Quantity': [1]}\n",
            "{'Tid': 'T6', 'Item': ['e', 'c', 'b', 'd'], 'Quantity': [1, 2, 3, 3]}\n",
            "{'Tid': 'T7', 'Item': ['e', 'c'], 'Quantity': [4, 6]}\n",
            "{'Tid': 'T8', 'Item': ['e'], 'Quantity': [1]}\n"
          ]
        }
      ],
      "source": [
        "for i in NEW_DATASET:\n",
        "    print(i)"
      ]
    },
    {
      "cell_type": "code",
      "execution_count": 77,
      "metadata": {
        "colab": {
          "base_uri": "https://localhost:8080/"
        },
        "id": "wLus82ed6pI_",
        "outputId": "a4212475-4688-4d3f-cb08-89ea3a9aa156"
      },
      "outputs": [
        {
          "name": "stdout",
          "output_type": "stream",
          "text": [
            "{'ca': 69, 'cb': 105, 'cd': 120, 'ab': 51, 'ad': 66, 'bd': 105, 'ec': 54, 'eb': 54, 'ed': 54}\n"
          ]
        }
      ],
      "source": [
        "print(EUCS_LIST)"
      ]
    },
    {
      "cell_type": "code",
      "execution_count": 78,
      "metadata": {
        "colab": {
          "base_uri": "https://localhost:8080/"
        },
        "id": "kc-IdARBIR2w",
        "outputId": "f01c18fd-f87c-44bf-887a-a71f5ad1f9fa"
      },
      "outputs": [
        {
          "name": "stdout",
          "output_type": "stream",
          "text": [
            "['e', 'c', 'a', 'b', 'd']\n"
          ]
        }
      ],
      "source": [
        "print(ORDER_LIST)"
      ]
    },
    {
      "cell_type": "markdown",
      "metadata": {
        "id": "rXcuZEHz6pI_"
      },
      "source": [
        "## Searching stage"
      ]
    },
    {
      "cell_type": "code",
      "execution_count": 79,
      "metadata": {
        "id": "LcCfJOrh6pI_"
      },
      "outputs": [],
      "source": [
        "def construct(prefix_list: list, x: list, y: list) -> list:\n",
        "    pre_pointer = 0\n",
        "    x_pointer = 0\n",
        "    y_pointer = 0\n",
        "    result = list()\n",
        "\n",
        "    while x_pointer < len(x) and y_pointer < len(y):\n",
        "        if x[x_pointer][0] < y[y_pointer][0]:\n",
        "            x_pointer += 1\n",
        "        elif x[x_pointer][0] > y[y_pointer][0]:\n",
        "            y_pointer += 1\n",
        "        else:\n",
        "            if prefix_list != None:\n",
        "                while prefix_list[pre_pointer][0] < x[x_pointer][0]:\n",
        "                    pre_pointer += 1\n",
        "                result.append([pre_pointer, x[x_pointer][1] + y[y_pointer][1] - prefix_list[pre_pointer][1], min(x[x_pointer][2], y[y_pointer][2])])\n",
        "                x_pointer += 1\n",
        "                y_pointer += 1\n",
        "                pre_pointer += 1\n",
        "            else:\n",
        "                result.append([x_pointer, x[x_pointer][1] + y[y_pointer][1], min(x[x_pointer][2], y[y_pointer][2])])\n",
        "                x_pointer += 1\n",
        "                y_pointer += 1\n",
        "    return result\n",
        "\n",
        "def utility_condition(x, minutil):\n",
        "    return sum(i[1] for i in x) >= minutil\n",
        "\n",
        "def calculate_periodic(x):\n",
        "    periodic = [x[0][0] + 1]\n",
        "    keys = x\n",
        "    for i in range(len(keys) - 1):\n",
        "        periodic.append(keys[i+1][0] - keys[i][0])\n",
        "    return max(periodic), min(periodic), sum(periodic) / len(periodic)\n",
        "\n",
        "def periodic_condition(x, minper, maxper, minavg, maxavg):\n",
        "    max_i, min_i, avg_i = calculate_periodic(x)\n",
        "    return min_i >= minper and max_i <= maxper and avg_i >= minavg and avg_i <= maxavg\n",
        "\n",
        "def ru_condition(x, minutil):\n",
        "    return sum(i[2] for i in x) >= minutil\n",
        "\n",
        "def max_per_condition(x, maxper):\n",
        "    max_x, min_x, avg_x = calculate_periodic(x)\n",
        "    return max_x <= maxper\n",
        "\n",
        "def avg_per_condition(x, maxavg):\n",
        "    max_x, min_x, avg_x = calculate_periodic(x)\n",
        "    return avg_x <= maxavg\n",
        "\n",
        "def get_name(X, Y):\n",
        "    # return X + Y if X + Y in eucs_list else Y + X\n",
        "    return X + Y\n",
        "\n",
        "def eucp_condition(X, Y, eucs_list, minutil):\n",
        "    items_name = get_name(X, Y)\n",
        "    return eucs_list[items_name] >= minutil\n",
        "\n",
        "# def is_mlist(Y):\n",
        "#     return True if isinstance(Y[0], str) and isinstance(Y[1], str) else False\n",
        "\n",
        "# def du_compute(Y, X):\n",
        "#     if is_mlist(Y):\n",
        "#         return sum(x[2][-1] + x[2][1] for x in Y) + sum(x[1] for x in X)\n",
        "#     else:\n",
        "#         return sum(x[-1] + x[1] for x in Y) + sum(x[1] for x in X)\n",
        "    \n",
        "# def gen_mlist_1(X, Y_MLIST, DU):\n",
        "#     mlist = Y_MLIST\n",
        "#     for i in mlist\n",
        "    \n",
        "#     return None\n",
        "\n",
        "# def gen_mlist_2(X, Y_LIST, P, DU):\n",
        "#     return None\n"
      ]
    },
    {
      "cell_type": "code",
      "execution_count": 80,
      "metadata": {
        "id": "gv1ggXK-6pI_"
      },
      "outputs": [],
      "source": [
        "def phm_seach(prefix : str, prefix_list: list, lists: dict, order_list: list) -> set:\n",
        "    result = set()\n",
        "    key_lists = list()\n",
        "\n",
        "    for i in order_list:\n",
        "      if i in lists:\n",
        "        key_lists.append(i)\n",
        "\n",
        "    # print(prefix, key_lists, order_list)\n",
        "    for i in key_lists:\n",
        "        # print(i)\n",
        "        # print(i, lists[i])\n",
        "        # print(lists[i], end='\\t')\n",
        "        # print(i, utility_condition(lists[i], EPM['min_util']), periodic_condition(lists[i], EPM['min_per'], EPM['max_per'], EPM['min_avg'], EPM['max_avg'])\\\n",
        "        #       , calculate_periodic(lists[i]))\n",
        "        if utility_condition(lists[i], EPM['min_util']) and periodic_condition(lists[i], EPM['min_per'], EPM['max_per'], EPM['min_avg'], EPM['max_avg']):\n",
        "            result.add(i)\n",
        "        # print(lists[i])\n",
        "        # print(EPM)\n",
        "        if ru_condition(lists[i], EPM['min_util']) and max_per_condition(lists[i], EPM['max_per']) and avg_per_condition(lists[i], EPM['max_avg']):\n",
        "            new_list = dict()\n",
        "            new_order_list = list()\n",
        "            for j in key_lists[key_lists.index(i) + 1:]:\n",
        "                if get_name(i[-1], j[-1]) not in EUCS_LIST:\n",
        "                  continue\n",
        "                if eucp_condition(i[-1],j[-1], EUCS_LIST, EPM['min_util']):\n",
        "\n",
        "                    z = get_name(i[-1], j[-1]) if prefix == None else prefix + get_name(i[-1], j[-1])\n",
        "\n",
        "                    z_list = construct(prefix_list, lists[i], lists[j])\n",
        "\n",
        "                    new_list[z] = z_list\n",
        "                    new_order_list.append(z)\n",
        "            result.update(phm_seach(i, lists[i], new_list, new_order_list))\n",
        "\n",
        "    return result"
      ]
    },
    {
      "cell_type": "code",
      "execution_count": 81,
      "metadata": {
        "colab": {
          "base_uri": "https://localhost:8080/"
        },
        "id": "hxG1ikRO6pI_",
        "outputId": "b1d18d8d-0670-4479-dc82-e6a04e7292a0"
      },
      "outputs": [
        {
          "name": "stdout",
          "output_type": "stream",
          "text": [
            "{'a': 3, 'b': 6, 'c': -3, 'd': 12, 'e': -5, 'f': -2, 'g': -1}\n",
            "{'Tid': 'T1', 'Item': ['c', 'a', 'b', 'd'], 'Quantity': [1, 5, 2, 2]}\n",
            "{'Tid': 'T2', 'Item': ['c', 'a', 'd'], 'Quantity': [1, 1, 1]}\n",
            "{'Tid': 'T3', 'Item': ['c', 'a'], 'Quantity': [1, 1]}\n",
            "{'Tid': 'T4', 'Item': ['a'], 'Quantity': [1]}\n",
            "{'Tid': 'T5', 'Item': ['a'], 'Quantity': [1]}\n",
            "{'Tid': 'T6', 'Item': ['e', 'c', 'b', 'd'], 'Quantity': [1, 2, 3, 3]}\n",
            "{'Tid': 'T7', 'Item': ['e', 'c'], 'Quantity': [4, 6]}\n",
            "{'Tid': 'T8', 'Item': ['e'], 'Quantity': [1]}\n"
          ]
        }
      ],
      "source": [
        "print(UNIT_UTILITY)\n",
        "\n",
        "for i in NEW_DATASET:\n",
        "    print(i)"
      ]
    },
    {
      "cell_type": "code",
      "execution_count": 82,
      "metadata": {
        "colab": {
          "base_uri": "https://localhost:8080/"
        },
        "id": "Gr4ZFYKZ6pI_",
        "outputId": "8c5b6401-0aa1-40a0-92b2-7ffa96f3697e"
      },
      "outputs": [
        {
          "name": "stdout",
          "output_type": "stream",
          "text": [
            "d [[1, 24, 0], [2, 12, 0], [6, 36, 0]]\n",
            "b [[1, 12, 24], [6, 18, 36]]\n",
            "a [[1, 15, 36], [2, 3, 12], [3, 3, 0], [4, 3, 0], [5, 3, 0]]\n",
            "c [[1, -3, 51], [2, -3, 15], [3, -3, 3], [6, -6, 54], [7, -18, 0]]\n",
            "e [[6, -5, 54], [7, -20, 0], [8, -5, 0]]\n"
          ]
        }
      ],
      "source": [
        "utility_list = dict()\n",
        "pnu_utility_list = dict()\n",
        "for i in NEW_DATASET:\n",
        "    total = 0\n",
        "    for j in range(len(i['Item']) - 1, -1, -1):\n",
        "\n",
        "        if i['Item'][j] not in utility_list:\n",
        "            utility_list[i['Item'][j]] = list()\n",
        "            pnu_utility_list[i['Item'][j]] = list()\n",
        "\n",
        "        utility_list[i['Item'][j]].append([int(i['Tid'][1:]), UNIT_UTILITY[i['Item'][j]]*i['Quantity'][j], total])\n",
        "        \n",
        "        if UNIT_UTILITY[i['Item'][j]] < 0:\n",
        "            pnu_utility_list[i['Item'][j]].append([int(i['Tid'][1:]), 0, UNIT_UTILITY[i['Item'][j]]*i['Quantity'][j], total])\n",
        "        else:\n",
        "            pnu_utility_list[i['Item'][j]].append([int(i['Tid'][1:]), UNIT_UTILITY[i['Item'][j]]*i['Quantity'][j], 0, total])\n",
        "\n",
        "        total += UNIT_UTILITY[i['Item'][j]]*i['Quantity'][j] if UNIT_UTILITY[i['Item'][j]] > 0 else 0\n",
        "for i in utility_list.keys():\n",
        "    print(i, utility_list[i])"
      ]
    },
    {
      "cell_type": "code",
      "execution_count": 83,
      "metadata": {},
      "outputs": [
        {
          "name": "stdout",
          "output_type": "stream",
          "text": [
            "d [[1, 24, 0, 0], [2, 12, 0, 0], [6, 36, 0, 0]]\n",
            "b [[1, 12, 0, 24], [6, 18, 0, 36]]\n",
            "a [[1, 15, 0, 36], [2, 3, 0, 12], [3, 3, 0, 0], [4, 3, 0, 0], [5, 3, 0, 0]]\n",
            "c [[1, 0, -3, 51], [2, 0, -3, 15], [3, 0, -3, 3], [6, 0, -6, 54], [7, 0, -18, 0]]\n",
            "e [[6, 0, -5, 54], [7, 0, -20, 0], [8, 0, -5, 0]]\n"
          ]
        }
      ],
      "source": [
        "for i, j in pnu_utility_list.items():\n",
        "    print(i, j)"
      ]
    },
    {
      "cell_type": "code",
      "execution_count": 84,
      "metadata": {
        "colab": {
          "base_uri": "https://localhost:8080/"
        },
        "id": "fjoeF4mL6pJA",
        "outputId": "0ea9ea48-8d6d-4ea5-8068-38c61fd41c13"
      },
      "outputs": [],
      "source": [
        "result = phm_seach(None, None, utility_list, ORDER_LIST)"
      ]
    },
    {
      "cell_type": "code",
      "execution_count": 85,
      "metadata": {
        "colab": {
          "base_uri": "https://localhost:8080/"
        },
        "id": "DA1c7GIj8GSq",
        "outputId": "9710b0c7-df54-4e68-c760-598250722d06"
      },
      "outputs": [
        {
          "name": "stdout",
          "output_type": "stream",
          "text": [
            "{'cd', 'ad', 'ab', 'cbd', 'b', 'bd', 'a', 'd', 'cad'}\n"
          ]
        }
      ],
      "source": [
        "print(result)"
      ]
    },
    {
      "cell_type": "code",
      "execution_count": 86,
      "metadata": {
        "colab": {
          "base_uri": "https://localhost:8080/",
          "height": 106
        },
        "id": "dgpVp1Bl6pJA",
        "outputId": "51f0d4b6-ce04-459b-b205-a931103b2b76"
      },
      "outputs": [],
      "source": [
        "def phm_plus_search(prefix : str, prefix_list: list, lists: dict, item_utility: list, order_list: list) -> set:\n",
        "    result = set()\n",
        "    key_lists = list()\n",
        "\n",
        "    for i in order_list:\n",
        "      if i in lists:\n",
        "        key_lists.append(i)\n",
        "\n",
        "    for i in key_lists:\n",
        "        temp_list_of_i = list(map(lambda x: [x[0], x[1] + x[2], x[3]], lists[i]))\n",
        "        if utility_condition(temp_list_of_i, EPM['min_util']) and periodic_condition(temp_list_of_i, EPM['min_per'], EPM['max_per'], EPM['min_avg'], EPM['max_avg']):\n",
        "            result.add(i)\n",
        "        # print(lists[i])\n",
        "        # print(EPM)\n",
        "        if ru_condition(temp_list_of_i, EPM['min_util']) and max_per_condition(temp_list_of_i, EPM['max_per']) and avg_per_condition(temp_list_of_i, EPM['max_avg']):\n",
        "            new_list = dict()\n",
        "            new_order_list = list()\n",
        "            for j in key_lists[key_lists.index(i) + 1:]:\n",
        "                if get_name(i[-1], j[-1]) not in EUCS_LIST:\n",
        "                  continue\n",
        "                if eucp_condition(i[-1],j[-1], EUCS_LIST, EPM['min_util']):\n",
        "                    \n",
        "                    du_i_j = du_compute(lists[j], lists[i])\n",
        "                    z = get_name(i[-1], j[-1]) if prefix == None else prefix + get_name(i[-1], j[-1])\n",
        "\n",
        "                    if du_i_j >= EPM['min_util']:\n",
        "                      if is_mlist(lists[j]):\n",
        "                        z_list = construct(lists[j][-1], lists[i], lists[j][1])\n",
        "                      else:\n",
        "                        z_list = construct(prefix_list, lists[i], lists[j])\n",
        "                    else:\n",
        "                      if is_mlist(lists[j]):\n",
        "                        z_list = gen_mlist_1(i, lists[j], du_i_j)\n",
        "                      else:\n",
        "                        z_list = gen_mlist_2(i, lists[j], prefix, du_i_j)\n",
        "\n",
        "                    new_list[z] = z_list\n",
        "                    new_order_list.append(z)\n",
        "            result.update(phm_plus_search(i, lists[i], new_list, item_utility, new_order_list))\n",
        "\n",
        "    return result"
      ]
    }
  ],
  "metadata": {
    "colab": {
      "provenance": []
    },
    "kernelspec": {
      "display_name": "recommend_sys",
      "language": "python",
      "name": "python3"
    },
    "language_info": {
      "codemirror_mode": {
        "name": "ipython",
        "version": 3
      },
      "file_extension": ".py",
      "mimetype": "text/x-python",
      "name": "python",
      "nbconvert_exporter": "python",
      "pygments_lexer": "ipython3",
      "version": "3.12.3"
    }
  },
  "nbformat": 4,
  "nbformat_minor": 0
}
